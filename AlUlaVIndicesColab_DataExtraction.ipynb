{
  "cells": [
    {
      "cell_type": "markdown",
      "metadata": {
        "id": "view-in-github",
        "colab_type": "text"
      },
      "source": [
        "<a href=\"https://colab.research.google.com/github/Frederick-Numbisi/AgroforestryCanopyGapPrediction/blob/master/AlUlaVIndicesColab_DataExtraction.ipynb\" target=\"_parent\"><img src=\"https://colab.research.google.com/assets/colab-badge.svg\" alt=\"Open In Colab\"/></a>"
      ]
    },
    {
      "cell_type": "code",
      "execution_count": null,
      "metadata": {
        "colab": {
          "base_uri": "https://localhost:8080/"
        },
        "id": "8q8FkaNvXLqF",
        "outputId": "4cbddb55-577a-49ee-cd2d-0f46fead82ac"
      },
      "outputs": [
        {
          "output_type": "stream",
          "name": "stdout",
          "text": [
            "To authorize access needed by Earth Engine, open the following URL in a web browser and follow the instructions. If the web browser does not start automatically, please manually browse the URL below.\n",
            "\n",
            "    https://code.earthengine.google.com/client-auth?scopes=https%3A//www.googleapis.com/auth/earthengine%20https%3A//www.googleapis.com/auth/devstorage.full_control&request_id=a6mbCfRXC8xSZlClq_Q5CAw-dK2NyQRq3s2e3M9g0uw&tc=Kbp9OAuu-H_VlUbJdANMt4l-EOIALjcxXU4u0qn8Ncc&cc=rGXabvbNQ_Aop4UCIBrzvVas8JavLCHn8UcqeWfcRmg\n",
            "\n",
            "The authorization workflow will generate a code, which you should paste in the box below.\n",
            "Enter verification code: 4/1AfJohXnruRH8jG3RJrRciLdCjXZQtRn8VQXjoNXQoz6yyLHvyYb20azVJTA\n",
            "\n",
            "Successfully saved authorization token.\n"
          ]
        }
      ],
      "source": [
        "# Google Colab Project for Calculating vegetation indices for AlUla Project\n",
        "\n",
        "import ee\n",
        "try:\n",
        "        ee.Initialize()\n",
        "except Exception as e:\n",
        "        ee.Authenticate()\n",
        "        ee.Initialize(project='tropvegclass') # Specify project\n"
      ]
    },
    {
      "cell_type": "code",
      "execution_count": null,
      "metadata": {
        "colab": {
          "base_uri": "https://localhost:8080/"
        },
        "id": "Uk0IOSxLx_Bb",
        "outputId": "04fc3e4c-a25d-4231-b3c0-7f2bfbf3ec8a"
      },
      "outputs": [
        {
          "output_type": "stream",
          "name": "stdout",
          "text": [
            "Requirement already satisfied: earthengine-api in /usr/local/lib/python3.10/dist-packages (0.1.381)\n",
            "Requirement already satisfied: google-cloud-storage in /usr/local/lib/python3.10/dist-packages (from earthengine-api) (2.8.0)\n",
            "Requirement already satisfied: google-api-python-client>=1.12.1 in /usr/local/lib/python3.10/dist-packages (from earthengine-api) (2.84.0)\n",
            "Requirement already satisfied: google-auth>=1.4.1 in /usr/local/lib/python3.10/dist-packages (from earthengine-api) (2.17.3)\n",
            "Requirement already satisfied: google-auth-httplib2>=0.0.3 in /usr/local/lib/python3.10/dist-packages (from earthengine-api) (0.1.1)\n",
            "Requirement already satisfied: httplib2<1dev,>=0.9.2 in /usr/local/lib/python3.10/dist-packages (from earthengine-api) (0.22.0)\n",
            "Requirement already satisfied: requests in /usr/local/lib/python3.10/dist-packages (from earthengine-api) (2.31.0)\n",
            "Requirement already satisfied: google-api-core!=2.0.*,!=2.1.*,!=2.2.*,!=2.3.0,<3.0.0dev,>=1.31.5 in /usr/local/lib/python3.10/dist-packages (from google-api-python-client>=1.12.1->earthengine-api) (2.11.1)\n",
            "Requirement already satisfied: uritemplate<5,>=3.0.1 in /usr/local/lib/python3.10/dist-packages (from google-api-python-client>=1.12.1->earthengine-api) (4.1.1)\n",
            "Requirement already satisfied: cachetools<6.0,>=2.0.0 in /usr/local/lib/python3.10/dist-packages (from google-auth>=1.4.1->earthengine-api) (5.3.2)\n",
            "Requirement already satisfied: pyasn1-modules>=0.2.1 in /usr/local/lib/python3.10/dist-packages (from google-auth>=1.4.1->earthengine-api) (0.3.0)\n",
            "Requirement already satisfied: six>=1.9.0 in /usr/local/lib/python3.10/dist-packages (from google-auth>=1.4.1->earthengine-api) (1.16.0)\n",
            "Requirement already satisfied: rsa<5,>=3.1.4 in /usr/local/lib/python3.10/dist-packages (from google-auth>=1.4.1->earthengine-api) (4.9)\n",
            "Requirement already satisfied: pyparsing!=3.0.0,!=3.0.1,!=3.0.2,!=3.0.3,<4,>=2.4.2 in /usr/local/lib/python3.10/dist-packages (from httplib2<1dev,>=0.9.2->earthengine-api) (3.1.1)\n",
            "Requirement already satisfied: google-cloud-core<3.0dev,>=2.3.0 in /usr/local/lib/python3.10/dist-packages (from google-cloud-storage->earthengine-api) (2.3.3)\n",
            "Requirement already satisfied: google-resumable-media>=2.3.2 in /usr/local/lib/python3.10/dist-packages (from google-cloud-storage->earthengine-api) (2.6.0)\n",
            "Requirement already satisfied: charset-normalizer<4,>=2 in /usr/local/lib/python3.10/dist-packages (from requests->earthengine-api) (3.3.2)\n",
            "Requirement already satisfied: idna<4,>=2.5 in /usr/local/lib/python3.10/dist-packages (from requests->earthengine-api) (3.6)\n",
            "Requirement already satisfied: urllib3<3,>=1.21.1 in /usr/local/lib/python3.10/dist-packages (from requests->earthengine-api) (2.0.7)\n",
            "Requirement already satisfied: certifi>=2017.4.17 in /usr/local/lib/python3.10/dist-packages (from requests->earthengine-api) (2023.11.17)\n",
            "Requirement already satisfied: googleapis-common-protos<2.0.dev0,>=1.56.2 in /usr/local/lib/python3.10/dist-packages (from google-api-core!=2.0.*,!=2.1.*,!=2.2.*,!=2.3.0,<3.0.0dev,>=1.31.5->google-api-python-client>=1.12.1->earthengine-api) (1.61.0)\n",
            "Requirement already satisfied: protobuf!=3.20.0,!=3.20.1,!=4.21.0,!=4.21.1,!=4.21.2,!=4.21.3,!=4.21.4,!=4.21.5,<5.0.0.dev0,>=3.19.5 in /usr/local/lib/python3.10/dist-packages (from google-api-core!=2.0.*,!=2.1.*,!=2.2.*,!=2.3.0,<3.0.0dev,>=1.31.5->google-api-python-client>=1.12.1->earthengine-api) (3.20.3)\n",
            "Requirement already satisfied: google-crc32c<2.0dev,>=1.0 in /usr/local/lib/python3.10/dist-packages (from google-resumable-media>=2.3.2->google-cloud-storage->earthengine-api) (1.5.0)\n",
            "Requirement already satisfied: pyasn1<0.6.0,>=0.4.6 in /usr/local/lib/python3.10/dist-packages (from pyasn1-modules>=0.2.1->google-auth>=1.4.1->earthengine-api) (0.5.1)\n",
            "Requirement already satisfied: geemap in /usr/local/lib/python3.10/dist-packages (0.28.2)\n",
            "Requirement already satisfied: bqplot in /usr/local/lib/python3.10/dist-packages (from geemap) (0.12.42)\n",
            "Requirement already satisfied: colour in /usr/local/lib/python3.10/dist-packages (from geemap) (0.1.5)\n",
            "Requirement already satisfied: earthengine-api>=0.1.347 in /usr/local/lib/python3.10/dist-packages (from geemap) (0.1.381)\n",
            "Requirement already satisfied: eerepr>=0.0.4 in /usr/local/lib/python3.10/dist-packages (from geemap) (0.0.4)\n",
            "Requirement already satisfied: folium>=0.13.0 in /usr/local/lib/python3.10/dist-packages (from geemap) (0.14.0)\n",
            "Requirement already satisfied: geocoder in /usr/local/lib/python3.10/dist-packages (from geemap) (1.38.1)\n",
            "Requirement already satisfied: ipyevents in /usr/local/lib/python3.10/dist-packages (from geemap) (2.0.2)\n",
            "Requirement already satisfied: ipyfilechooser>=0.6.0 in /usr/local/lib/python3.10/dist-packages (from geemap) (0.6.0)\n",
            "Requirement already satisfied: ipyleaflet>=0.17.0 in /usr/local/lib/python3.10/dist-packages (from geemap) (0.18.0)\n",
            "Requirement already satisfied: ipytree in /usr/local/lib/python3.10/dist-packages (from geemap) (0.2.2)\n",
            "Requirement already satisfied: matplotlib in /usr/local/lib/python3.10/dist-packages (from geemap) (3.7.1)\n",
            "Requirement already satisfied: numpy in /usr/local/lib/python3.10/dist-packages (from geemap) (1.23.5)\n",
            "Requirement already satisfied: pandas in /usr/local/lib/python3.10/dist-packages (from geemap) (1.5.3)\n",
            "Requirement already satisfied: plotly in /usr/local/lib/python3.10/dist-packages (from geemap) (5.15.0)\n",
            "Requirement already satisfied: pyperclip in /usr/local/lib/python3.10/dist-packages (from geemap) (1.8.2)\n",
            "Requirement already satisfied: pyshp>=2.1.3 in /usr/local/lib/python3.10/dist-packages (from geemap) (2.3.1)\n",
            "Requirement already satisfied: python-box in /usr/local/lib/python3.10/dist-packages (from geemap) (7.1.1)\n",
            "Requirement already satisfied: scooby in /usr/local/lib/python3.10/dist-packages (from geemap) (0.9.2)\n",
            "Requirement already satisfied: google-cloud-storage in /usr/local/lib/python3.10/dist-packages (from earthengine-api>=0.1.347->geemap) (2.8.0)\n",
            "Requirement already satisfied: google-api-python-client>=1.12.1 in /usr/local/lib/python3.10/dist-packages (from earthengine-api>=0.1.347->geemap) (2.84.0)\n",
            "Requirement already satisfied: google-auth>=1.4.1 in /usr/local/lib/python3.10/dist-packages (from earthengine-api>=0.1.347->geemap) (2.17.3)\n",
            "Requirement already satisfied: google-auth-httplib2>=0.0.3 in /usr/local/lib/python3.10/dist-packages (from earthengine-api>=0.1.347->geemap) (0.1.1)\n",
            "Requirement already satisfied: httplib2<1dev,>=0.9.2 in /usr/local/lib/python3.10/dist-packages (from earthengine-api>=0.1.347->geemap) (0.22.0)\n",
            "Requirement already satisfied: requests in /usr/local/lib/python3.10/dist-packages (from earthengine-api>=0.1.347->geemap) (2.31.0)\n",
            "Requirement already satisfied: branca>=0.6.0 in /usr/local/lib/python3.10/dist-packages (from folium>=0.13.0->geemap) (0.7.0)\n",
            "Requirement already satisfied: jinja2>=2.9 in /usr/local/lib/python3.10/dist-packages (from folium>=0.13.0->geemap) (3.1.2)\n",
            "Requirement already satisfied: ipywidgets in /usr/local/lib/python3.10/dist-packages (from ipyfilechooser>=0.6.0->geemap) (7.7.1)\n",
            "Requirement already satisfied: traittypes<3,>=0.2.1 in /usr/local/lib/python3.10/dist-packages (from ipyleaflet>=0.17.0->geemap) (0.2.1)\n",
            "Requirement already satisfied: xyzservices>=2021.8.1 in /usr/local/lib/python3.10/dist-packages (from ipyleaflet>=0.17.0->geemap) (2023.10.1)\n",
            "Requirement already satisfied: traitlets>=4.3.0 in /usr/local/lib/python3.10/dist-packages (from bqplot->geemap) (5.7.1)\n",
            "Requirement already satisfied: python-dateutil>=2.8.1 in /usr/local/lib/python3.10/dist-packages (from pandas->geemap) (2.8.2)\n",
            "Requirement already satisfied: pytz>=2020.1 in /usr/local/lib/python3.10/dist-packages (from pandas->geemap) (2023.3.post1)\n",
            "Requirement already satisfied: click in /usr/local/lib/python3.10/dist-packages (from geocoder->geemap) (8.1.7)\n",
            "Requirement already satisfied: future in /usr/local/lib/python3.10/dist-packages (from geocoder->geemap) (0.18.3)\n",
            "Requirement already satisfied: ratelim in /usr/local/lib/python3.10/dist-packages (from geocoder->geemap) (0.1.6)\n",
            "Requirement already satisfied: six in /usr/local/lib/python3.10/dist-packages (from geocoder->geemap) (1.16.0)\n",
            "Requirement already satisfied: contourpy>=1.0.1 in /usr/local/lib/python3.10/dist-packages (from matplotlib->geemap) (1.2.0)\n",
            "Requirement already satisfied: cycler>=0.10 in /usr/local/lib/python3.10/dist-packages (from matplotlib->geemap) (0.12.1)\n",
            "Requirement already satisfied: fonttools>=4.22.0 in /usr/local/lib/python3.10/dist-packages (from matplotlib->geemap) (4.45.1)\n",
            "Requirement already satisfied: kiwisolver>=1.0.1 in /usr/local/lib/python3.10/dist-packages (from matplotlib->geemap) (1.4.5)\n",
            "Requirement already satisfied: packaging>=20.0 in /usr/local/lib/python3.10/dist-packages (from matplotlib->geemap) (23.2)\n",
            "Requirement already satisfied: pillow>=6.2.0 in /usr/local/lib/python3.10/dist-packages (from matplotlib->geemap) (9.4.0)\n",
            "Requirement already satisfied: pyparsing>=2.3.1 in /usr/local/lib/python3.10/dist-packages (from matplotlib->geemap) (3.1.1)\n",
            "Requirement already satisfied: tenacity>=6.2.0 in /usr/local/lib/python3.10/dist-packages (from plotly->geemap) (8.2.3)\n",
            "Requirement already satisfied: google-api-core!=2.0.*,!=2.1.*,!=2.2.*,!=2.3.0,<3.0.0dev,>=1.31.5 in /usr/local/lib/python3.10/dist-packages (from google-api-python-client>=1.12.1->earthengine-api>=0.1.347->geemap) (2.11.1)\n",
            "Requirement already satisfied: uritemplate<5,>=3.0.1 in /usr/local/lib/python3.10/dist-packages (from google-api-python-client>=1.12.1->earthengine-api>=0.1.347->geemap) (4.1.1)\n",
            "Requirement already satisfied: cachetools<6.0,>=2.0.0 in /usr/local/lib/python3.10/dist-packages (from google-auth>=1.4.1->earthengine-api>=0.1.347->geemap) (5.3.2)\n",
            "Requirement already satisfied: pyasn1-modules>=0.2.1 in /usr/local/lib/python3.10/dist-packages (from google-auth>=1.4.1->earthengine-api>=0.1.347->geemap) (0.3.0)\n",
            "Requirement already satisfied: rsa<5,>=3.1.4 in /usr/local/lib/python3.10/dist-packages (from google-auth>=1.4.1->earthengine-api>=0.1.347->geemap) (4.9)\n",
            "Requirement already satisfied: ipykernel>=4.5.1 in /usr/local/lib/python3.10/dist-packages (from ipywidgets->ipyfilechooser>=0.6.0->geemap) (5.5.6)\n",
            "Requirement already satisfied: ipython-genutils~=0.2.0 in /usr/local/lib/python3.10/dist-packages (from ipywidgets->ipyfilechooser>=0.6.0->geemap) (0.2.0)\n",
            "Requirement already satisfied: widgetsnbextension~=3.6.0 in /usr/local/lib/python3.10/dist-packages (from ipywidgets->ipyfilechooser>=0.6.0->geemap) (3.6.6)\n",
            "Requirement already satisfied: ipython>=4.0.0 in /usr/local/lib/python3.10/dist-packages (from ipywidgets->ipyfilechooser>=0.6.0->geemap) (7.34.0)\n",
            "Requirement already satisfied: jupyterlab-widgets>=1.0.0 in /usr/local/lib/python3.10/dist-packages (from ipywidgets->ipyfilechooser>=0.6.0->geemap) (3.0.9)\n",
            "Requirement already satisfied: MarkupSafe>=2.0 in /usr/local/lib/python3.10/dist-packages (from jinja2>=2.9->folium>=0.13.0->geemap) (2.1.3)\n",
            "Requirement already satisfied: google-cloud-core<3.0dev,>=2.3.0 in /usr/local/lib/python3.10/dist-packages (from google-cloud-storage->earthengine-api>=0.1.347->geemap) (2.3.3)\n",
            "Requirement already satisfied: google-resumable-media>=2.3.2 in /usr/local/lib/python3.10/dist-packages (from google-cloud-storage->earthengine-api>=0.1.347->geemap) (2.6.0)\n",
            "Requirement already satisfied: charset-normalizer<4,>=2 in /usr/local/lib/python3.10/dist-packages (from requests->earthengine-api>=0.1.347->geemap) (3.3.2)\n",
            "Requirement already satisfied: idna<4,>=2.5 in /usr/local/lib/python3.10/dist-packages (from requests->earthengine-api>=0.1.347->geemap) (3.6)\n",
            "Requirement already satisfied: urllib3<3,>=1.21.1 in /usr/local/lib/python3.10/dist-packages (from requests->earthengine-api>=0.1.347->geemap) (2.0.7)\n",
            "Requirement already satisfied: certifi>=2017.4.17 in /usr/local/lib/python3.10/dist-packages (from requests->earthengine-api>=0.1.347->geemap) (2023.11.17)\n",
            "Requirement already satisfied: decorator in /usr/local/lib/python3.10/dist-packages (from ratelim->geocoder->geemap) (4.4.2)\n",
            "Requirement already satisfied: googleapis-common-protos<2.0.dev0,>=1.56.2 in /usr/local/lib/python3.10/dist-packages (from google-api-core!=2.0.*,!=2.1.*,!=2.2.*,!=2.3.0,<3.0.0dev,>=1.31.5->google-api-python-client>=1.12.1->earthengine-api>=0.1.347->geemap) (1.61.0)\n",
            "Requirement already satisfied: protobuf!=3.20.0,!=3.20.1,!=4.21.0,!=4.21.1,!=4.21.2,!=4.21.3,!=4.21.4,!=4.21.5,<5.0.0.dev0,>=3.19.5 in /usr/local/lib/python3.10/dist-packages (from google-api-core!=2.0.*,!=2.1.*,!=2.2.*,!=2.3.0,<3.0.0dev,>=1.31.5->google-api-python-client>=1.12.1->earthengine-api>=0.1.347->geemap) (3.20.3)\n",
            "Requirement already satisfied: google-crc32c<2.0dev,>=1.0 in /usr/local/lib/python3.10/dist-packages (from google-resumable-media>=2.3.2->google-cloud-storage->earthengine-api>=0.1.347->geemap) (1.5.0)\n",
            "Requirement already satisfied: jupyter-client in /usr/local/lib/python3.10/dist-packages (from ipykernel>=4.5.1->ipywidgets->ipyfilechooser>=0.6.0->geemap) (6.1.12)\n",
            "Requirement already satisfied: tornado>=4.2 in /usr/local/lib/python3.10/dist-packages (from ipykernel>=4.5.1->ipywidgets->ipyfilechooser>=0.6.0->geemap) (6.3.2)\n",
            "Requirement already satisfied: setuptools>=18.5 in /usr/local/lib/python3.10/dist-packages (from ipython>=4.0.0->ipywidgets->ipyfilechooser>=0.6.0->geemap) (67.7.2)\n",
            "Collecting jedi>=0.16 (from ipython>=4.0.0->ipywidgets->ipyfilechooser>=0.6.0->geemap)\n",
            "  Downloading jedi-0.19.1-py2.py3-none-any.whl (1.6 MB)\n",
            "\u001b[2K     \u001b[90m━━━━━━━━━━━━━━━━━━━━━━━━━━━━━━━━━━━━━━━━\u001b[0m \u001b[32m1.6/1.6 MB\u001b[0m \u001b[31m10.5 MB/s\u001b[0m eta \u001b[36m0:00:00\u001b[0m\n",
            "\u001b[?25hRequirement already satisfied: pickleshare in /usr/local/lib/python3.10/dist-packages (from ipython>=4.0.0->ipywidgets->ipyfilechooser>=0.6.0->geemap) (0.7.5)\n",
            "Requirement already satisfied: prompt-toolkit!=3.0.0,!=3.0.1,<3.1.0,>=2.0.0 in /usr/local/lib/python3.10/dist-packages (from ipython>=4.0.0->ipywidgets->ipyfilechooser>=0.6.0->geemap) (3.0.41)\n",
            "Requirement already satisfied: pygments in /usr/local/lib/python3.10/dist-packages (from ipython>=4.0.0->ipywidgets->ipyfilechooser>=0.6.0->geemap) (2.16.1)\n",
            "Requirement already satisfied: backcall in /usr/local/lib/python3.10/dist-packages (from ipython>=4.0.0->ipywidgets->ipyfilechooser>=0.6.0->geemap) (0.2.0)\n",
            "Requirement already satisfied: matplotlib-inline in /usr/local/lib/python3.10/dist-packages (from ipython>=4.0.0->ipywidgets->ipyfilechooser>=0.6.0->geemap) (0.1.6)\n",
            "Requirement already satisfied: pexpect>4.3 in /usr/local/lib/python3.10/dist-packages (from ipython>=4.0.0->ipywidgets->ipyfilechooser>=0.6.0->geemap) (4.9.0)\n",
            "Requirement already satisfied: pyasn1<0.6.0,>=0.4.6 in /usr/local/lib/python3.10/dist-packages (from pyasn1-modules>=0.2.1->google-auth>=1.4.1->earthengine-api>=0.1.347->geemap) (0.5.1)\n",
            "Requirement already satisfied: notebook>=4.4.1 in /usr/local/lib/python3.10/dist-packages (from widgetsnbextension~=3.6.0->ipywidgets->ipyfilechooser>=0.6.0->geemap) (6.5.5)\n",
            "Requirement already satisfied: parso<0.9.0,>=0.8.3 in /usr/local/lib/python3.10/dist-packages (from jedi>=0.16->ipython>=4.0.0->ipywidgets->ipyfilechooser>=0.6.0->geemap) (0.8.3)\n",
            "Requirement already satisfied: pyzmq<25,>=17 in /usr/local/lib/python3.10/dist-packages (from notebook>=4.4.1->widgetsnbextension~=3.6.0->ipywidgets->ipyfilechooser>=0.6.0->geemap) (23.2.1)\n",
            "Requirement already satisfied: argon2-cffi in /usr/local/lib/python3.10/dist-packages (from notebook>=4.4.1->widgetsnbextension~=3.6.0->ipywidgets->ipyfilechooser>=0.6.0->geemap) (23.1.0)\n",
            "Requirement already satisfied: jupyter-core>=4.6.1 in /usr/local/lib/python3.10/dist-packages (from notebook>=4.4.1->widgetsnbextension~=3.6.0->ipywidgets->ipyfilechooser>=0.6.0->geemap) (5.5.0)\n",
            "Requirement already satisfied: nbformat in /usr/local/lib/python3.10/dist-packages (from notebook>=4.4.1->widgetsnbextension~=3.6.0->ipywidgets->ipyfilechooser>=0.6.0->geemap) (5.9.2)\n",
            "Requirement already satisfied: nbconvert>=5 in /usr/local/lib/python3.10/dist-packages (from notebook>=4.4.1->widgetsnbextension~=3.6.0->ipywidgets->ipyfilechooser>=0.6.0->geemap) (6.5.4)\n",
            "Requirement already satisfied: nest-asyncio>=1.5 in /usr/local/lib/python3.10/dist-packages (from notebook>=4.4.1->widgetsnbextension~=3.6.0->ipywidgets->ipyfilechooser>=0.6.0->geemap) (1.5.8)\n",
            "Requirement already satisfied: Send2Trash>=1.8.0 in /usr/local/lib/python3.10/dist-packages (from notebook>=4.4.1->widgetsnbextension~=3.6.0->ipywidgets->ipyfilechooser>=0.6.0->geemap) (1.8.2)\n",
            "Requirement already satisfied: terminado>=0.8.3 in /usr/local/lib/python3.10/dist-packages (from notebook>=4.4.1->widgetsnbextension~=3.6.0->ipywidgets->ipyfilechooser>=0.6.0->geemap) (0.18.0)\n",
            "Requirement already satisfied: prometheus-client in /usr/local/lib/python3.10/dist-packages (from notebook>=4.4.1->widgetsnbextension~=3.6.0->ipywidgets->ipyfilechooser>=0.6.0->geemap) (0.19.0)\n",
            "Requirement already satisfied: nbclassic>=0.4.7 in /usr/local/lib/python3.10/dist-packages (from notebook>=4.4.1->widgetsnbextension~=3.6.0->ipywidgets->ipyfilechooser>=0.6.0->geemap) (1.0.0)\n",
            "Requirement already satisfied: ptyprocess>=0.5 in /usr/local/lib/python3.10/dist-packages (from pexpect>4.3->ipython>=4.0.0->ipywidgets->ipyfilechooser>=0.6.0->geemap) (0.7.0)\n",
            "Requirement already satisfied: wcwidth in /usr/local/lib/python3.10/dist-packages (from prompt-toolkit!=3.0.0,!=3.0.1,<3.1.0,>=2.0.0->ipython>=4.0.0->ipywidgets->ipyfilechooser>=0.6.0->geemap) (0.2.12)\n",
            "Requirement already satisfied: platformdirs>=2.5 in /usr/local/lib/python3.10/dist-packages (from jupyter-core>=4.6.1->notebook>=4.4.1->widgetsnbextension~=3.6.0->ipywidgets->ipyfilechooser>=0.6.0->geemap) (4.0.0)\n",
            "Requirement already satisfied: jupyter-server>=1.8 in /usr/local/lib/python3.10/dist-packages (from nbclassic>=0.4.7->notebook>=4.4.1->widgetsnbextension~=3.6.0->ipywidgets->ipyfilechooser>=0.6.0->geemap) (1.24.0)\n",
            "Requirement already satisfied: notebook-shim>=0.2.3 in /usr/local/lib/python3.10/dist-packages (from nbclassic>=0.4.7->notebook>=4.4.1->widgetsnbextension~=3.6.0->ipywidgets->ipyfilechooser>=0.6.0->geemap) (0.2.3)\n",
            "Requirement already satisfied: lxml in /usr/local/lib/python3.10/dist-packages (from nbconvert>=5->notebook>=4.4.1->widgetsnbextension~=3.6.0->ipywidgets->ipyfilechooser>=0.6.0->geemap) (4.9.3)\n",
            "Requirement already satisfied: beautifulsoup4 in /usr/local/lib/python3.10/dist-packages (from nbconvert>=5->notebook>=4.4.1->widgetsnbextension~=3.6.0->ipywidgets->ipyfilechooser>=0.6.0->geemap) (4.11.2)\n",
            "Requirement already satisfied: bleach in /usr/local/lib/python3.10/dist-packages (from nbconvert>=5->notebook>=4.4.1->widgetsnbextension~=3.6.0->ipywidgets->ipyfilechooser>=0.6.0->geemap) (6.1.0)\n",
            "Requirement already satisfied: defusedxml in /usr/local/lib/python3.10/dist-packages (from nbconvert>=5->notebook>=4.4.1->widgetsnbextension~=3.6.0->ipywidgets->ipyfilechooser>=0.6.0->geemap) (0.7.1)\n",
            "Requirement already satisfied: entrypoints>=0.2.2 in /usr/local/lib/python3.10/dist-packages (from nbconvert>=5->notebook>=4.4.1->widgetsnbextension~=3.6.0->ipywidgets->ipyfilechooser>=0.6.0->geemap) (0.4)\n",
            "Requirement already satisfied: jupyterlab-pygments in /usr/local/lib/python3.10/dist-packages (from nbconvert>=5->notebook>=4.4.1->widgetsnbextension~=3.6.0->ipywidgets->ipyfilechooser>=0.6.0->geemap) (0.3.0)\n",
            "Requirement already satisfied: mistune<2,>=0.8.1 in /usr/local/lib/python3.10/dist-packages (from nbconvert>=5->notebook>=4.4.1->widgetsnbextension~=3.6.0->ipywidgets->ipyfilechooser>=0.6.0->geemap) (0.8.4)\n",
            "Requirement already satisfied: nbclient>=0.5.0 in /usr/local/lib/python3.10/dist-packages (from nbconvert>=5->notebook>=4.4.1->widgetsnbextension~=3.6.0->ipywidgets->ipyfilechooser>=0.6.0->geemap) (0.9.0)\n",
            "Requirement already satisfied: pandocfilters>=1.4.1 in /usr/local/lib/python3.10/dist-packages (from nbconvert>=5->notebook>=4.4.1->widgetsnbextension~=3.6.0->ipywidgets->ipyfilechooser>=0.6.0->geemap) (1.5.0)\n",
            "Requirement already satisfied: tinycss2 in /usr/local/lib/python3.10/dist-packages (from nbconvert>=5->notebook>=4.4.1->widgetsnbextension~=3.6.0->ipywidgets->ipyfilechooser>=0.6.0->geemap) (1.2.1)\n",
            "Requirement already satisfied: fastjsonschema in /usr/local/lib/python3.10/dist-packages (from nbformat->notebook>=4.4.1->widgetsnbextension~=3.6.0->ipywidgets->ipyfilechooser>=0.6.0->geemap) (2.19.0)\n",
            "Requirement already satisfied: jsonschema>=2.6 in /usr/local/lib/python3.10/dist-packages (from nbformat->notebook>=4.4.1->widgetsnbextension~=3.6.0->ipywidgets->ipyfilechooser>=0.6.0->geemap) (4.19.2)\n",
            "Requirement already satisfied: argon2-cffi-bindings in /usr/local/lib/python3.10/dist-packages (from argon2-cffi->notebook>=4.4.1->widgetsnbextension~=3.6.0->ipywidgets->ipyfilechooser>=0.6.0->geemap) (21.2.0)\n",
            "Requirement already satisfied: attrs>=22.2.0 in /usr/local/lib/python3.10/dist-packages (from jsonschema>=2.6->nbformat->notebook>=4.4.1->widgetsnbextension~=3.6.0->ipywidgets->ipyfilechooser>=0.6.0->geemap) (23.1.0)\n",
            "Requirement already satisfied: jsonschema-specifications>=2023.03.6 in /usr/local/lib/python3.10/dist-packages (from jsonschema>=2.6->nbformat->notebook>=4.4.1->widgetsnbextension~=3.6.0->ipywidgets->ipyfilechooser>=0.6.0->geemap) (2023.11.2)\n",
            "Requirement already satisfied: referencing>=0.28.4 in /usr/local/lib/python3.10/dist-packages (from jsonschema>=2.6->nbformat->notebook>=4.4.1->widgetsnbextension~=3.6.0->ipywidgets->ipyfilechooser>=0.6.0->geemap) (0.31.1)\n",
            "Requirement already satisfied: rpds-py>=0.7.1 in /usr/local/lib/python3.10/dist-packages (from jsonschema>=2.6->nbformat->notebook>=4.4.1->widgetsnbextension~=3.6.0->ipywidgets->ipyfilechooser>=0.6.0->geemap) (0.13.2)\n",
            "Requirement already satisfied: anyio<4,>=3.1.0 in /usr/local/lib/python3.10/dist-packages (from jupyter-server>=1.8->nbclassic>=0.4.7->notebook>=4.4.1->widgetsnbextension~=3.6.0->ipywidgets->ipyfilechooser>=0.6.0->geemap) (3.7.1)\n",
            "Requirement already satisfied: websocket-client in /usr/local/lib/python3.10/dist-packages (from jupyter-server>=1.8->nbclassic>=0.4.7->notebook>=4.4.1->widgetsnbextension~=3.6.0->ipywidgets->ipyfilechooser>=0.6.0->geemap) (1.6.4)\n",
            "Requirement already satisfied: cffi>=1.0.1 in /usr/local/lib/python3.10/dist-packages (from argon2-cffi-bindings->argon2-cffi->notebook>=4.4.1->widgetsnbextension~=3.6.0->ipywidgets->ipyfilechooser>=0.6.0->geemap) (1.16.0)\n",
            "Requirement already satisfied: soupsieve>1.2 in /usr/local/lib/python3.10/dist-packages (from beautifulsoup4->nbconvert>=5->notebook>=4.4.1->widgetsnbextension~=3.6.0->ipywidgets->ipyfilechooser>=0.6.0->geemap) (2.5)\n",
            "Requirement already satisfied: webencodings in /usr/local/lib/python3.10/dist-packages (from bleach->nbconvert>=5->notebook>=4.4.1->widgetsnbextension~=3.6.0->ipywidgets->ipyfilechooser>=0.6.0->geemap) (0.5.1)\n",
            "Requirement already satisfied: sniffio>=1.1 in /usr/local/lib/python3.10/dist-packages (from anyio<4,>=3.1.0->jupyter-server>=1.8->nbclassic>=0.4.7->notebook>=4.4.1->widgetsnbextension~=3.6.0->ipywidgets->ipyfilechooser>=0.6.0->geemap) (1.3.0)\n",
            "Requirement already satisfied: exceptiongroup in /usr/local/lib/python3.10/dist-packages (from anyio<4,>=3.1.0->jupyter-server>=1.8->nbclassic>=0.4.7->notebook>=4.4.1->widgetsnbextension~=3.6.0->ipywidgets->ipyfilechooser>=0.6.0->geemap) (1.2.0)\n",
            "Requirement already satisfied: pycparser in /usr/local/lib/python3.10/dist-packages (from cffi>=1.0.1->argon2-cffi-bindings->argon2-cffi->notebook>=4.4.1->widgetsnbextension~=3.6.0->ipywidgets->ipyfilechooser>=0.6.0->geemap) (2.21)\n",
            "Installing collected packages: jedi\n",
            "Successfully installed jedi-0.19.1\n"
          ]
        }
      ],
      "source": [
        "!pip install earthengine-api #earth-engine Python API\n",
        "!pip install geemap"
      ]
    },
    {
      "cell_type": "code",
      "execution_count": null,
      "metadata": {
        "colab": {
          "base_uri": "https://localhost:8080/",
          "height": 34
        },
        "id": "B4BgFb46X2Lc",
        "outputId": "7b8971bf-1aa7-48d5-8444-a18686a4b7f7"
      },
      "outputs": [
        {
          "output_type": "display_data",
          "data": {
            "text/plain": [
              "<IPython.core.display.HTML object>"
            ],
            "text/html": [
              "\n",
              "            <style>\n",
              "                .geemap-dark {\n",
              "                    --jp-widgets-color: white;\n",
              "                    --jp-widgets-label-color: white;\n",
              "                    --jp-ui-font-color1: white;\n",
              "                    --jp-layout-color2: #454545;\n",
              "                    background-color: #383838;\n",
              "                }\n",
              "                    \n",
              "                .geemap-dark .jupyter-button {\n",
              "                    --jp-layout-color3: #383838;\n",
              "                }\n",
              "                \n",
              "                .geemap-colab {\n",
              "                    background-color: var(--colab-primary-surface-color, white);\n",
              "                }\n",
              "                    \n",
              "                .geemap-colab .jupyter-button {\n",
              "                    --jp-layout-color3: var(--colab-primary-surface-color, white);\n",
              "                }\n",
              "            </style>\n",
              "            "
            ]
          },
          "metadata": {}
        },
        {
          "output_type": "stream",
          "name": "stdout",
          "text": [
            "Mount Everest elevation (m): 8729\n"
          ]
        }
      ],
      "source": [
        "# Print the elevation of Mount Everest.\n",
        "dem = ee.Image('USGS/SRTMGL1_003')\n",
        "xy = ee.Geometry.Point([86.9250, 27.9881])\n",
        "elev = dem.sample(xy, 30).first().get('elevation').getInfo()\n",
        "print('Mount Everest elevation (m):', elev)"
      ]
    },
    {
      "cell_type": "code",
      "execution_count": null,
      "metadata": {
        "colab": {
          "base_uri": "https://localhost:8080/",
          "height": 277
        },
        "id": "M0OM2pntX3lO",
        "outputId": "240d7852-76c3-40bb-e68a-c84625ea6b5c"
      },
      "outputs": [
        {
          "output_type": "display_data",
          "data": {
            "text/plain": [
              "<IPython.core.display.HTML object>"
            ],
            "text/html": [
              "\n",
              "            <style>\n",
              "                .geemap-dark {\n",
              "                    --jp-widgets-color: white;\n",
              "                    --jp-widgets-label-color: white;\n",
              "                    --jp-ui-font-color1: white;\n",
              "                    --jp-layout-color2: #454545;\n",
              "                    background-color: #383838;\n",
              "                }\n",
              "                    \n",
              "                .geemap-dark .jupyter-button {\n",
              "                    --jp-layout-color3: #383838;\n",
              "                }\n",
              "                \n",
              "                .geemap-colab {\n",
              "                    background-color: var(--colab-primary-surface-color, white);\n",
              "                }\n",
              "                    \n",
              "                .geemap-colab .jupyter-button {\n",
              "                    --jp-layout-color3: var(--colab-primary-surface-color, white);\n",
              "                }\n",
              "            </style>\n",
              "            "
            ]
          },
          "metadata": {}
        },
        {
          "output_type": "execute_result",
          "data": {
            "text/html": [
              "<img src=\"https://earthengine.googleapis.com/v1/projects/earthengine-legacy/thumbnails/df5c3239c03299d4153fb8cb9563623c-75ee82563d059ebf948ee6539b8d62a7:getPixels\"/>"
            ],
            "text/plain": [
              "<IPython.core.display.Image object>"
            ]
          },
          "metadata": {},
          "execution_count": 38
        }
      ],
      "source": [
        "# The following cell will display a thumbnail of the global elevation model.\n",
        "\n",
        "# Import the Image function from the IPython.display module.\n",
        "from IPython.display import Image\n",
        "\n",
        "# Display a thumbnail of global elevation.\n",
        "Image(url = dem.updateMask(dem.gt(0))\n",
        "  .getThumbURL({'min': 0, 'max': 4000, 'dimensions': 512,\n",
        "                'palette': ['006633', 'E5FFCC', '662A00', 'D8D8D8', 'F5F5F5']}))"
      ]
    },
    {
      "cell_type": "markdown",
      "metadata": {
        "id": "Efq4LHPpZiFO"
      },
      "source": [
        "Interactive map\n",
        "\n",
        "The folium library can be used to display ee.Image objects on an interactive Leaflet map. Folium has no default method for handling tiles from Earth Engine, so one must be defined and added to the folium.Map module before use.\n",
        "\n",
        "The following cell provides an example of adding a method for handing Earth Engine tiles and using it to display an elevation model to a Leaflet map."
      ]
    },
    {
      "cell_type": "code",
      "execution_count": null,
      "metadata": {
        "id": "AnjG_x6OZqbF"
      },
      "outputs": [],
      "source": [
        "# Import the Folium library.\n",
        "import folium\n",
        "\n",
        "# Define a method for displaying Earth Engine image tiles to folium map.\n",
        "def add_ee_layer(self, ee_image_object, vis_params, name):\n",
        "  map_id_dict = ee.Image(ee_image_object).getMapId(vis_params)\n",
        "  folium.raster_layers.TileLayer(\n",
        "    tiles = map_id_dict['tile_fetcher'].url_format,\n",
        "    attr = 'Map Data &copy; <a href=\"https://earthengine.google.com/\">Google Earth Engine</a>',\n",
        "    name = name,\n",
        "    overlay = True,\n",
        "    control = True\n",
        "  ).add_to(self)\n",
        "\n",
        "# Add EE drawing method to folium.\n",
        "folium.Map.add_ee_layer = add_ee_layer\n",
        "\n",
        "# Set visualization parameters.\n",
        "vis_params = {\n",
        "  'min': 0,\n",
        "  'max': 4000,\n",
        "  'palette': ['006633', 'E5FFCC', '662A00', 'D8D8D8', 'F5F5F5']}\n",
        "\n",
        "# Create a folium map object.\n",
        "my_map = folium.Map(location=[20, 0], zoom_start=3)\n",
        "\n",
        "# Add the elevation model to the map object.\n",
        "my_map.add_ee_layer(dem.updateMask(dem.gt(0)), vis_params, 'DEM')\n",
        "\n",
        "# Add a layer control panel to the map.\n",
        "my_map.add_child(folium.LayerControl())\n",
        "\n",
        "# Display the map.\n",
        "display(my_map)"
      ]
    },
    {
      "cell_type": "code",
      "execution_count": null,
      "metadata": {
        "id": "ZOceKY2Ia5EL"
      },
      "outputs": [],
      "source": []
    },
    {
      "cell_type": "markdown",
      "metadata": {
        "id": "KN3NJ3LabO59"
      },
      "source": []
    },
    {
      "cell_type": "code",
      "execution_count": null,
      "metadata": {
        "id": "uQFT1zGrbPXe"
      },
      "outputs": [],
      "source": [
        "# Import the matplotlib.pyplot module.\n",
        "\n",
        "import matplotlib.pyplot as plt\n",
        "import numpy as np\n",
        "import seaborn as sns\n",
        "\n",
        "\n",
        "# Fetch a Landsat image.\n",
        "img = ee.Image('LANDSAT/LT05/C01/T1_SR/LT05_034033_20000913')\n",
        "\n",
        "# Select Red and NIR bands, scale them, and sample 500 points.\n",
        "samp_fc = img.select(['B3','B4']).divide(10000).sample(scale=30, numPixels=500)\n",
        "\n",
        "# Arrange the sample as a list of lists.\n",
        "samp_dict = samp_fc.reduceColumns(ee.Reducer.toList().repeat(2), ['B3', 'B4'])\n",
        "samp_list = ee.List(samp_dict.get('list'))\n",
        "\n",
        "# Save server-side ee.List as a client-side Python list.\n",
        "samp_data = samp_list.getInfo()\n",
        "\n",
        "# Display a scatter plot of Red-NIR sample pairs using matplotlib.\n",
        "plt.scatter(samp_data[0], samp_data[1], alpha=0.2)\n",
        "plt.xlabel('Red', fontsize=12)\n",
        "plt.ylabel('NIR', fontsize=12)\n",
        "plt.show()\n",
        "\n",
        "\n"
      ]
    },
    {
      "cell_type": "markdown",
      "metadata": {
        "id": "_83wAvlM-Hna"
      },
      "source": [
        "The geemap Python package is built upon the ipyleaflet and folium packages and implements several methods for interacting with Earth Engine data layers, such as Map.addLayer(), Map.setCenter(), and Map.centerObject(). The following script checks if the geemap package has been installed. If not, it will install geemap, which automatically installs its dependencies, including earthengine-api, folium, and ipyleaflet."
      ]
    },
    {
      "cell_type": "code",
      "execution_count": null,
      "metadata": {
        "id": "WdTglszm9EX-"
      },
      "outputs": [],
      "source": [
        "\n",
        "\n",
        "# Installs geemap package\n",
        "import subprocess\n",
        "\n",
        "try:\n",
        "    import geemap\n",
        "except ImportError:\n",
        "    print('geemap package not installed. Installing ...')\n",
        "    subprocess.check_call([\"python\", '-m', 'pip', 'install', 'geemap', 'descartes'])\n",
        "\n",
        "import ee\n",
        "import geemap"
      ]
    },
    {
      "cell_type": "code",
      "execution_count": null,
      "metadata": {
        "colab": {
          "base_uri": "https://localhost:8080/",
          "height": 1000
        },
        "id": "ePCvhFJ_zWNP",
        "outputId": "a73430f2-0e53-49dc-80ff-f1cf71d455d0"
      },
      "outputs": [
        {
          "output_type": "display_data",
          "data": {
            "text/plain": [
              "<IPython.core.display.HTML object>"
            ],
            "text/html": [
              "\n",
              "            <style>\n",
              "                .geemap-dark {\n",
              "                    --jp-widgets-color: white;\n",
              "                    --jp-widgets-label-color: white;\n",
              "                    --jp-ui-font-color1: white;\n",
              "                    --jp-layout-color2: #454545;\n",
              "                    background-color: #383838;\n",
              "                }\n",
              "                    \n",
              "                .geemap-dark .jupyter-button {\n",
              "                    --jp-layout-color3: #383838;\n",
              "                }\n",
              "                \n",
              "                .geemap-colab {\n",
              "                    background-color: var(--colab-primary-surface-color, white);\n",
              "                }\n",
              "                    \n",
              "                .geemap-colab .jupyter-button {\n",
              "                    --jp-layout-color3: var(--colab-primary-surface-color, white);\n",
              "                }\n",
              "            </style>\n",
              "            "
            ]
          },
          "metadata": {}
        },
        {
          "output_type": "stream",
          "name": "stdout",
          "text": [
            "Requirement already satisfied: geopandas in /usr/local/lib/python3.10/dist-packages (0.13.2)\n",
            "Requirement already satisfied: fiona>=1.8.19 in /usr/local/lib/python3.10/dist-packages (from geopandas) (1.9.5)\n",
            "Requirement already satisfied: packaging in /usr/local/lib/python3.10/dist-packages (from geopandas) (23.2)\n",
            "Requirement already satisfied: pandas>=1.1.0 in /usr/local/lib/python3.10/dist-packages (from geopandas) (1.5.3)\n",
            "Requirement already satisfied: pyproj>=3.0.1 in /usr/local/lib/python3.10/dist-packages (from geopandas) (3.6.1)\n",
            "Requirement already satisfied: shapely>=1.7.1 in /usr/local/lib/python3.10/dist-packages (from geopandas) (2.0.2)\n",
            "Requirement already satisfied: attrs>=19.2.0 in /usr/local/lib/python3.10/dist-packages (from fiona>=1.8.19->geopandas) (23.1.0)\n",
            "Requirement already satisfied: certifi in /usr/local/lib/python3.10/dist-packages (from fiona>=1.8.19->geopandas) (2023.11.17)\n",
            "Requirement already satisfied: click~=8.0 in /usr/local/lib/python3.10/dist-packages (from fiona>=1.8.19->geopandas) (8.1.7)\n",
            "Requirement already satisfied: click-plugins>=1.0 in /usr/local/lib/python3.10/dist-packages (from fiona>=1.8.19->geopandas) (1.1.1)\n",
            "Requirement already satisfied: cligj>=0.5 in /usr/local/lib/python3.10/dist-packages (from fiona>=1.8.19->geopandas) (0.7.2)\n",
            "Requirement already satisfied: six in /usr/local/lib/python3.10/dist-packages (from fiona>=1.8.19->geopandas) (1.16.0)\n",
            "Requirement already satisfied: setuptools in /usr/local/lib/python3.10/dist-packages (from fiona>=1.8.19->geopandas) (67.7.2)\n",
            "Requirement already satisfied: python-dateutil>=2.8.1 in /usr/local/lib/python3.10/dist-packages (from pandas>=1.1.0->geopandas) (2.8.2)\n",
            "Requirement already satisfied: pytz>=2020.1 in /usr/local/lib/python3.10/dist-packages (from pandas>=1.1.0->geopandas) (2023.3.post1)\n",
            "Requirement already satisfied: numpy>=1.21.0 in /usr/local/lib/python3.10/dist-packages (from pandas>=1.1.0->geopandas) (1.23.5)\n",
            "Collecting descartes\n",
            "  Downloading descartes-1.1.0-py3-none-any.whl (5.8 kB)\n",
            "Requirement already satisfied: matplotlib in /usr/local/lib/python3.10/dist-packages (from descartes) (3.7.1)\n",
            "Requirement already satisfied: contourpy>=1.0.1 in /usr/local/lib/python3.10/dist-packages (from matplotlib->descartes) (1.2.0)\n",
            "Requirement already satisfied: cycler>=0.10 in /usr/local/lib/python3.10/dist-packages (from matplotlib->descartes) (0.12.1)\n",
            "Requirement already satisfied: fonttools>=4.22.0 in /usr/local/lib/python3.10/dist-packages (from matplotlib->descartes) (4.45.1)\n",
            "Requirement already satisfied: kiwisolver>=1.0.1 in /usr/local/lib/python3.10/dist-packages (from matplotlib->descartes) (1.4.5)\n",
            "Requirement already satisfied: numpy>=1.20 in /usr/local/lib/python3.10/dist-packages (from matplotlib->descartes) (1.23.5)\n",
            "Requirement already satisfied: packaging>=20.0 in /usr/local/lib/python3.10/dist-packages (from matplotlib->descartes) (23.2)\n",
            "Requirement already satisfied: pillow>=6.2.0 in /usr/local/lib/python3.10/dist-packages (from matplotlib->descartes) (9.4.0)\n",
            "Requirement already satisfied: pyparsing>=2.3.1 in /usr/local/lib/python3.10/dist-packages (from matplotlib->descartes) (3.1.1)\n",
            "Requirement already satisfied: python-dateutil>=2.7 in /usr/local/lib/python3.10/dist-packages (from matplotlib->descartes) (2.8.2)\n",
            "Requirement already satisfied: six>=1.5 in /usr/local/lib/python3.10/dist-packages (from python-dateutil>=2.7->matplotlib->descartes) (1.16.0)\n",
            "Installing collected packages: descartes\n",
            "Successfully installed descartes-1.1.0\n",
            "Collecting rasterio\n",
            "  Downloading rasterio-1.3.9-cp310-cp310-manylinux2014_x86_64.whl (20.6 MB)\n",
            "\u001b[2K     \u001b[90m━━━━━━━━━━━━━━━━━━━━━━━━━━━━━━━━━━━━━━━━\u001b[0m \u001b[32m20.6/20.6 MB\u001b[0m \u001b[31m50.2 MB/s\u001b[0m eta \u001b[36m0:00:00\u001b[0m\n",
            "\u001b[?25hCollecting affine (from rasterio)\n",
            "  Downloading affine-2.4.0-py3-none-any.whl (15 kB)\n",
            "Requirement already satisfied: attrs in /usr/local/lib/python3.10/dist-packages (from rasterio) (23.1.0)\n",
            "Requirement already satisfied: certifi in /usr/local/lib/python3.10/dist-packages (from rasterio) (2023.11.17)\n",
            "Requirement already satisfied: click>=4.0 in /usr/local/lib/python3.10/dist-packages (from rasterio) (8.1.7)\n",
            "Requirement already satisfied: cligj>=0.5 in /usr/local/lib/python3.10/dist-packages (from rasterio) (0.7.2)\n",
            "Requirement already satisfied: numpy in /usr/local/lib/python3.10/dist-packages (from rasterio) (1.23.5)\n",
            "Collecting snuggs>=1.4.1 (from rasterio)\n",
            "  Downloading snuggs-1.4.7-py3-none-any.whl (5.4 kB)\n",
            "Requirement already satisfied: click-plugins in /usr/local/lib/python3.10/dist-packages (from rasterio) (1.1.1)\n",
            "Requirement already satisfied: setuptools in /usr/local/lib/python3.10/dist-packages (from rasterio) (67.7.2)\n",
            "Requirement already satisfied: pyparsing>=2.1.6 in /usr/local/lib/python3.10/dist-packages (from snuggs>=1.4.1->rasterio) (3.1.1)\n",
            "Installing collected packages: snuggs, affine, rasterio\n",
            "Successfully installed affine-2.4.0 rasterio-1.3.9 snuggs-1.4.7\n",
            "Collecting rasterstats\n",
            "  Downloading rasterstats-0.19.0-py3-none-any.whl (16 kB)\n",
            "Requirement already satisfied: affine in /usr/local/lib/python3.10/dist-packages (from rasterstats) (2.4.0)\n",
            "Requirement already satisfied: click>7.1 in /usr/local/lib/python3.10/dist-packages (from rasterstats) (8.1.7)\n",
            "Requirement already satisfied: cligj>=0.4 in /usr/local/lib/python3.10/dist-packages (from rasterstats) (0.7.2)\n",
            "Requirement already satisfied: fiona in /usr/local/lib/python3.10/dist-packages (from rasterstats) (1.9.5)\n",
            "Requirement already satisfied: numpy>=1.9 in /usr/local/lib/python3.10/dist-packages (from rasterstats) (1.23.5)\n",
            "Requirement already satisfied: rasterio>=1.0 in /usr/local/lib/python3.10/dist-packages (from rasterstats) (1.3.9)\n",
            "Collecting simplejson (from rasterstats)\n",
            "  Downloading simplejson-3.19.2-cp310-cp310-manylinux_2_5_x86_64.manylinux1_x86_64.manylinux_2_17_x86_64.manylinux2014_x86_64.whl (137 kB)\n",
            "\u001b[2K     \u001b[90m━━━━━━━━━━━━━━━━━━━━━━━━━━━━━━━━━━━━━━━━\u001b[0m \u001b[32m137.9/137.9 kB\u001b[0m \u001b[31m4.4 MB/s\u001b[0m eta \u001b[36m0:00:00\u001b[0m\n",
            "\u001b[?25hRequirement already satisfied: shapely in /usr/local/lib/python3.10/dist-packages (from rasterstats) (2.0.2)\n",
            "Requirement already satisfied: attrs in /usr/local/lib/python3.10/dist-packages (from rasterio>=1.0->rasterstats) (23.1.0)\n",
            "Requirement already satisfied: certifi in /usr/local/lib/python3.10/dist-packages (from rasterio>=1.0->rasterstats) (2023.11.17)\n",
            "Requirement already satisfied: snuggs>=1.4.1 in /usr/local/lib/python3.10/dist-packages (from rasterio>=1.0->rasterstats) (1.4.7)\n",
            "Requirement already satisfied: click-plugins in /usr/local/lib/python3.10/dist-packages (from rasterio>=1.0->rasterstats) (1.1.1)\n",
            "Requirement already satisfied: setuptools in /usr/local/lib/python3.10/dist-packages (from rasterio>=1.0->rasterstats) (67.7.2)\n",
            "Requirement already satisfied: six in /usr/local/lib/python3.10/dist-packages (from fiona->rasterstats) (1.16.0)\n",
            "Requirement already satisfied: pyparsing>=2.1.6 in /usr/local/lib/python3.10/dist-packages (from snuggs>=1.4.1->rasterio>=1.0->rasterstats) (3.1.1)\n",
            "Installing collected packages: simplejson, rasterstats\n",
            "Successfully installed rasterstats-0.19.0 simplejson-3.19.2\n"
          ]
        }
      ],
      "source": [
        "#This is only required if running in colab notebook to install the libraries\n",
        "#If running Python code elsewhere, need to make sure below libraries are installed\n",
        "! pip install geopandas\n",
        "! pip install descartes\n",
        "! pip install rasterio\n",
        "! pip install rasterstats"
      ]
    },
    {
      "cell_type": "code",
      "execution_count": null,
      "metadata": {
        "colab": {
          "base_uri": "https://localhost:8080/",
          "height": 34
        },
        "id": "Ok3plWM8rf-9",
        "outputId": "980aca0d-3fb3-4147-be68-68ee804bf8a4"
      },
      "outputs": [
        {
          "output_type": "display_data",
          "data": {
            "text/plain": [
              "<IPython.core.display.HTML object>"
            ],
            "text/html": [
              "\n",
              "            <style>\n",
              "                .geemap-dark {\n",
              "                    --jp-widgets-color: white;\n",
              "                    --jp-widgets-label-color: white;\n",
              "                    --jp-ui-font-color1: white;\n",
              "                    --jp-layout-color2: #454545;\n",
              "                    background-color: #383838;\n",
              "                }\n",
              "                    \n",
              "                .geemap-dark .jupyter-button {\n",
              "                    --jp-layout-color3: #383838;\n",
              "                }\n",
              "                \n",
              "                .geemap-colab {\n",
              "                    background-color: var(--colab-primary-surface-color, white);\n",
              "                }\n",
              "                    \n",
              "                .geemap-colab .jupyter-button {\n",
              "                    --jp-layout-color3: var(--colab-primary-surface-color, white);\n",
              "                }\n",
              "            </style>\n",
              "            "
            ]
          },
          "metadata": {}
        },
        {
          "output_type": "stream",
          "name": "stdout",
          "text": [
            "Mounted at /content/drive\n"
          ]
        }
      ],
      "source": [
        "# Connect to your Google Drive in order to save the images we'll be collecting later\n",
        "\n",
        "from google.colab import drive\n",
        "drive.mount('/content/drive')"
      ]
    },
    {
      "cell_type": "code",
      "execution_count": null,
      "metadata": {
        "id": "j_biZfxu-Nkv",
        "colab": {
          "base_uri": "https://localhost:8080/",
          "height": 17
        },
        "outputId": "6ae0c50d-4df8-4f00-eaca-695432f60abd"
      },
      "outputs": [
        {
          "output_type": "display_data",
          "data": {
            "text/plain": [
              "<IPython.core.display.HTML object>"
            ],
            "text/html": [
              "\n",
              "            <style>\n",
              "                .geemap-dark {\n",
              "                    --jp-widgets-color: white;\n",
              "                    --jp-widgets-label-color: white;\n",
              "                    --jp-ui-font-color1: white;\n",
              "                    --jp-layout-color2: #454545;\n",
              "                    background-color: #383838;\n",
              "                }\n",
              "                    \n",
              "                .geemap-dark .jupyter-button {\n",
              "                    --jp-layout-color3: #383838;\n",
              "                }\n",
              "                \n",
              "                .geemap-colab {\n",
              "                    background-color: var(--colab-primary-surface-color, white);\n",
              "                }\n",
              "                    \n",
              "                .geemap-colab .jupyter-button {\n",
              "                    --jp-layout-color3: var(--colab-primary-surface-color, white);\n",
              "                }\n",
              "            </style>\n",
              "            "
            ]
          },
          "metadata": {}
        }
      ],
      "source": [
        "from pathlib import Path\n",
        "#from jmd_imagescraper.core import *\n",
        "\n",
        "project = \"ALULA_Project\"\n",
        "path = Path(project)\n",
        "\n",
        "folder_path = f'Data-image-classifier/data/{project}'\n",
        "file_name = f'{project}.tgz'"
      ]
    },
    {
      "cell_type": "code",
      "execution_count": null,
      "metadata": {
        "id": "vIwaa1Car7Jw"
      },
      "outputs": [],
      "source": []
    },
    {
      "cell_type": "code",
      "execution_count": null,
      "metadata": {
        "id": "mUHyXGkhsDL_",
        "colab": {
          "base_uri": "https://localhost:8080/",
          "height": 17
        },
        "outputId": "1575604b-57b5-436d-ada4-8d09d7f29d7b"
      },
      "outputs": [
        {
          "output_type": "display_data",
          "data": {
            "text/plain": [
              "<IPython.core.display.HTML object>"
            ],
            "text/html": [
              "\n",
              "            <style>\n",
              "                .geemap-dark {\n",
              "                    --jp-widgets-color: white;\n",
              "                    --jp-widgets-label-color: white;\n",
              "                    --jp-ui-font-color1: white;\n",
              "                    --jp-layout-color2: #454545;\n",
              "                    background-color: #383838;\n",
              "                }\n",
              "                    \n",
              "                .geemap-dark .jupyter-button {\n",
              "                    --jp-layout-color3: #383838;\n",
              "                }\n",
              "                \n",
              "                .geemap-colab {\n",
              "                    background-color: var(--colab-primary-surface-color, white);\n",
              "                }\n",
              "                    \n",
              "                .geemap-colab .jupyter-button {\n",
              "                    --jp-layout-color3: var(--colab-primary-surface-color, white);\n",
              "                }\n",
              "            </style>\n",
              "            "
            ]
          },
          "metadata": {}
        }
      ],
      "source": [
        "import pandas as pd\n",
        "import numpy as np\n",
        "import matplotlib.pyplot as plt\n",
        "import os\n",
        "import json\n",
        "from sklearn.model_selection import train_test_split\n",
        "import geopandas as gpd\n",
        "import descartes\n",
        "import rasterio\n",
        "from rasterio.mask import mask\n",
        "from rasterio.features import geometry_mask\n",
        "from shapely.geometry import mapping\n",
        "from rasterstats import zonal_stats\n",
        "import datetime"
      ]
    },
    {
      "cell_type": "code",
      "source": [
        "\n",
        "from urllib.request import urlopen\n",
        "import ee\n",
        "import geemap\n",
        "import os\n",
        "from datetime import date, datetime, timedelta\n",
        "\n",
        "import requests\n",
        "import json\n",
        "import pprint\n",
        "\n",
        "\n",
        "import numpy as np\n",
        "\n",
        "#import descartes\n",
        "import rasterio\n",
        "\n",
        "\n",
        "S2_MSI_Level1C = ee.ImageCollection(\"COPERNICUS/S2\")\n",
        "SAU_AlUla = ee.FeatureCollection(\"users/Frednumbisi/SAU_Al-Ula\")\n",
        "\n",
        "AlUlaAOI = ee.Geometry.Polygon(\n",
        "         [[36.497464654846446, 27.719292717890305],\n",
        "          [36.497464654846446, 25.499579734854645],\n",
        "          [39.178128717346446, 25.499579734854645],\n",
        "          [39.178128717346446, 27.719292717890305]], None, False)\n",
        "\n",
        "May22AlUla = ee.FeatureCollection(\"projects/ee-frednumbisi/assets/AlULa_May22AOIb\");\n",
        "\n",
        "AlUlaArea = ee.Geometry.Polygon(\n",
        "         [[36.343656061096446, 27.93304354929672],\n",
        "          [36.343656061096446, 25.122177797942495],\n",
        "          [39.639554498596446, 25.122177797942495],\n",
        "          [39.628568170471446, 26.507949632062942],\n",
        "          [39.639554498596446, 27.93304354929672]])\n",
        "\n",
        "#Al_Ula = ee.FeatureCollection(\"projects/ee-frednumbisi/assets/SAU_Al-Ula\")\n",
        "\n",
        "Al_Ula = ee.FeatureCollection(\"projects/ee-frednumbisi/assets/AlUla_AOIProject\")\n",
        "\n",
        "AlUla_DEMextent4TWI = ee.FeatureCollection(\"projects/ee-frednumbisi/assets/AlUla_DEMextract4TWI\")\n",
        "\n",
        "#Al_UlaROI = ee.Geometry.Polygon(ee.FeatureCollection(\"projects/ee-frednumbisi/assets/AlUla_BoundaryAOI\"))\n",
        "\n",
        "Al_UlaROI = Al_Ula.geometry()\n",
        "\n",
        "\n",
        "# Create and interactive map\n",
        "Map = geemap.Map(center=(40, -100), zoom=4)\n",
        "\n",
        "\n",
        "# center the map on an Earth Engine object:\n",
        "# Map.centerObject(ee_object=xy, zoom=13)\n",
        "Map.centerObject(ee_object=Al_Ula, zoom=13); # Get centre map to AlUla\n",
        "\n",
        "# Plot the Service Districts without any additional arguments\n",
        "#AlUlaArea.to_crs(epsg=4326).plot(figsize=(10, 10));\n",
        "\n",
        "# # Earth Engine layers to Map\n",
        "#Map.addLayer(Al_Ula, vis_params, \"AlUla Project Area\")\n",
        "#Map.addLayer(AlUlaArea, vis_params, \"AlUla DEM Clipping\")\n",
        "\n",
        "\n",
        "viewport = ee.Geometry.Rectangle([39.639554498596446, 25.122177797942495, 36.343656061096446, 27.93304354929672])"
      ],
      "metadata": {
        "colab": {
          "base_uri": "https://localhost:8080/",
          "height": 17
        },
        "id": "OMlL9s1kDJNz",
        "outputId": "a1246b5c-b73e-4f0f-d828-93280719746c"
      },
      "execution_count": null,
      "outputs": [
        {
          "output_type": "display_data",
          "data": {
            "text/plain": [
              "<IPython.core.display.HTML object>"
            ],
            "text/html": [
              "\n",
              "            <style>\n",
              "                .geemap-dark {\n",
              "                    --jp-widgets-color: white;\n",
              "                    --jp-widgets-label-color: white;\n",
              "                    --jp-ui-font-color1: white;\n",
              "                    --jp-layout-color2: #454545;\n",
              "                    background-color: #383838;\n",
              "                }\n",
              "                    \n",
              "                .geemap-dark .jupyter-button {\n",
              "                    --jp-layout-color3: #383838;\n",
              "                }\n",
              "                \n",
              "                .geemap-colab {\n",
              "                    background-color: var(--colab-primary-surface-color, white);\n",
              "                }\n",
              "                    \n",
              "                .geemap-colab .jupyter-button {\n",
              "                    --jp-layout-color3: var(--colab-primary-surface-color, white);\n",
              "                }\n",
              "            </style>\n",
              "            "
            ]
          },
          "metadata": {}
        }
      ]
    },
    {
      "cell_type": "code",
      "source": [
        "# set your root directory to the shared drive folder\n",
        "# root_dir = '/content/drive/Shared drives/servir-sat-ml/data/'\n",
        "root_dir = '/content/drive/My Drive/'\n",
        "\n",
        "# go to root directory\n",
        "%cd $root_dir"
      ],
      "metadata": {
        "colab": {
          "base_uri": "https://localhost:8080/",
          "height": 34
        },
        "id": "vMrPTREGKVdb",
        "outputId": "fa5a1a97-7cb4-4b49-e3b3-203b40f06888"
      },
      "execution_count": null,
      "outputs": [
        {
          "output_type": "display_data",
          "data": {
            "text/plain": [
              "<IPython.core.display.HTML object>"
            ],
            "text/html": [
              "\n",
              "            <style>\n",
              "                .geemap-dark {\n",
              "                    --jp-widgets-color: white;\n",
              "                    --jp-widgets-label-color: white;\n",
              "                    --jp-ui-font-color1: white;\n",
              "                    --jp-layout-color2: #454545;\n",
              "                    background-color: #383838;\n",
              "                }\n",
              "                    \n",
              "                .geemap-dark .jupyter-button {\n",
              "                    --jp-layout-color3: #383838;\n",
              "                }\n",
              "                \n",
              "                .geemap-colab {\n",
              "                    background-color: var(--colab-primary-surface-color, white);\n",
              "                }\n",
              "                    \n",
              "                .geemap-colab .jupyter-button {\n",
              "                    --jp-layout-color3: var(--colab-primary-surface-color, white);\n",
              "                }\n",
              "            </style>\n",
              "            "
            ]
          },
          "metadata": {}
        },
        {
          "output_type": "stream",
          "name": "stdout",
          "text": [
            "/content/drive/My Drive\n"
          ]
        }
      ]
    },
    {
      "cell_type": "code",
      "source": [
        "import geopandas as gpd\n",
        "\n",
        "# Read in the services district shapefile and look at the first few rows\n",
        "AlUla_DELtwiExtent = gpd.read_file(root_dir +'/RBGE_AlUla/AlUlaAOI/AlUla_DEMextract4TWI.shp')\n",
        "print(AlUla_DELtwiExtent.head())"
      ],
      "metadata": {
        "colab": {
          "base_uri": "https://localhost:8080/",
          "height": 52
        },
        "id": "l8S_IcaqFyhM",
        "outputId": "10567b0f-428a-45c7-fffd-c038b2e04717"
      },
      "execution_count": null,
      "outputs": [
        {
          "output_type": "display_data",
          "data": {
            "text/plain": [
              "<IPython.core.display.HTML object>"
            ],
            "text/html": [
              "\n",
              "            <style>\n",
              "                .geemap-dark {\n",
              "                    --jp-widgets-color: white;\n",
              "                    --jp-widgets-label-color: white;\n",
              "                    --jp-ui-font-color1: white;\n",
              "                    --jp-layout-color2: #454545;\n",
              "                    background-color: #383838;\n",
              "                }\n",
              "                    \n",
              "                .geemap-dark .jupyter-button {\n",
              "                    --jp-layout-color3: #383838;\n",
              "                }\n",
              "                \n",
              "                .geemap-colab {\n",
              "                    background-color: var(--colab-primary-surface-color, white);\n",
              "                }\n",
              "                    \n",
              "                .geemap-colab .jupyter-button {\n",
              "                    --jp-layout-color3: var(--colab-primary-surface-color, white);\n",
              "                }\n",
              "            </style>\n",
              "            "
            ]
          },
          "metadata": {}
        },
        {
          "output_type": "stream",
          "name": "stdout",
          "text": [
            "   id  Area                                           geometry\n",
            "0   1  None  POLYGON ((36.36678 27.75970, 39.20737 27.79270...\n"
          ]
        }
      ]
    },
    {
      "cell_type": "code",
      "source": [
        "# Plot the AlUla_DELtwiExtent without any additional arguments\n",
        "AlUla_DELtwiExtent.to_crs(epsg=4326).plot(figsize=(10, 10));"
      ],
      "metadata": {
        "colab": {
          "base_uri": "https://localhost:8080/",
          "height": 798
        },
        "id": "f_vwO2tZK49B",
        "outputId": "e71eeb69-8076-49fc-d7ab-2a1b0e4227a3"
      },
      "execution_count": null,
      "outputs": [
        {
          "output_type": "display_data",
          "data": {
            "text/plain": [
              "<IPython.core.display.HTML object>"
            ],
            "text/html": [
              "\n",
              "            <style>\n",
              "                .geemap-dark {\n",
              "                    --jp-widgets-color: white;\n",
              "                    --jp-widgets-label-color: white;\n",
              "                    --jp-ui-font-color1: white;\n",
              "                    --jp-layout-color2: #454545;\n",
              "                    background-color: #383838;\n",
              "                }\n",
              "                    \n",
              "                .geemap-dark .jupyter-button {\n",
              "                    --jp-layout-color3: #383838;\n",
              "                }\n",
              "                \n",
              "                .geemap-colab {\n",
              "                    background-color: var(--colab-primary-surface-color, white);\n",
              "                }\n",
              "                    \n",
              "                .geemap-colab .jupyter-button {\n",
              "                    --jp-layout-color3: var(--colab-primary-surface-color, white);\n",
              "                }\n",
              "            </style>\n",
              "            "
            ]
          },
          "metadata": {}
        },
        {
          "output_type": "display_data",
          "data": {
            "text/plain": [
              "<Figure size 1000x1000 with 1 Axes>"
            ],
            "image/png": "[encoded data removed]"
          },
          "metadata": {}
        }
      ]
    },
    {
      "cell_type": "code",
      "source": [
        "\n",
        "Al_UlaROI.plot(figsize=(10, 10));"
      ],
      "metadata": {
        "colab": {
          "base_uri": "https://localhost:8080/",
          "height": 175
        },
        "id": "3VEzGBv3Lg5a",
        "outputId": "ddd5f6a2-7850-4b7d-fdb9-42c1c890d780"
      },
      "execution_count": null,
      "outputs": [
        {
          "output_type": "display_data",
          "data": {
            "text/plain": [
              "<IPython.core.display.HTML object>"
            ],
            "text/html": [
              "\n",
              "            <style>\n",
              "                .geemap-dark {\n",
              "                    --jp-widgets-color: white;\n",
              "                    --jp-widgets-label-color: white;\n",
              "                    --jp-ui-font-color1: white;\n",
              "                    --jp-layout-color2: #454545;\n",
              "                    background-color: #383838;\n",
              "                }\n",
              "                    \n",
              "                .geemap-dark .jupyter-button {\n",
              "                    --jp-layout-color3: #383838;\n",
              "                }\n",
              "                \n",
              "                .geemap-colab {\n",
              "                    background-color: var(--colab-primary-surface-color, white);\n",
              "                }\n",
              "                    \n",
              "                .geemap-colab .jupyter-button {\n",
              "                    --jp-layout-color3: var(--colab-primary-surface-color, white);\n",
              "                }\n",
              "            </style>\n",
              "            "
            ]
          },
          "metadata": {}
        },
        {
          "output_type": "error",
          "ename": "AttributeError",
          "evalue": "ignored",
          "traceback": [
            "\u001b[0;31m---------------------------------------------------------------------------\u001b[0m",
            "\u001b[0;31mAttributeError\u001b[0m                            Traceback (most recent call last)",
            "\u001b[0;32m<ipython-input-28-0ddbb3bf2495>\u001b[0m in \u001b[0;36m<cell line: 1>\u001b[0;34m()\u001b[0m\n\u001b[0;32m----> 1\u001b[0;31m \u001b[0mAl_UlaROI\u001b[0m\u001b[0;34m.\u001b[0m\u001b[0mplot\u001b[0m\u001b[0;34m(\u001b[0m\u001b[0mfigsize\u001b[0m\u001b[0;34m=\u001b[0m\u001b[0;34m(\u001b[0m\u001b[0;36m10\u001b[0m\u001b[0;34m,\u001b[0m \u001b[0;36m10\u001b[0m\u001b[0;34m)\u001b[0m\u001b[0;34m)\u001b[0m\u001b[0;34m;\u001b[0m\u001b[0;34m\u001b[0m\u001b[0;34m\u001b[0m\u001b[0m\n\u001b[0m",
            "\u001b[0;31mAttributeError\u001b[0m: 'Geometry' object has no attribute 'plot'"
          ]
        }
      ]
    },
    {
      "cell_type": "code",
      "source": [
        "\n",
        "from urllib.request import urlopen\n",
        "import ee\n",
        "import geemap\n",
        "import os\n",
        "from datetime import date, datetime, timedelta\n",
        "\n",
        "import requests\n",
        "import json\n",
        "import pprint\n",
        "\n",
        "\n",
        "import numpy as np\n",
        "import geopandas as gpd\n",
        "\n",
        "#import descartes\n",
        "import rasterio\n",
        "\n",
        "\n",
        "S2_MSI_Level1C = ee.ImageCollection(\"COPERNICUS/S2\")\n",
        "SAU_AlUla = ee.FeatureCollection(\"users/Frednumbisi/SAU_Al-Ula\")\n",
        "\n",
        "AlUlaAOI = ee.Geometry.Polygon(\n",
        "         [[36.497464654846446, 27.719292717890305],\n",
        "          [36.497464654846446, 25.499579734854645],\n",
        "          [39.178128717346446, 25.499579734854645],\n",
        "          [39.178128717346446, 27.719292717890305]], None, False)\n",
        "\n",
        "May22AlUla = ee.FeatureCollection(\"projects/ee-frednumbisi/assets/AlULa_May22AOIb\");\n",
        "\n",
        "AlUlaArea = ee.Geometry.Polygon(\n",
        "         [[36.343656061096446, 27.93304354929672],\n",
        "          [36.343656061096446, 25.122177797942495],\n",
        "          [39.639554498596446, 25.122177797942495],\n",
        "          [39.628568170471446, 26.507949632062942],\n",
        "          [39.639554498596446, 27.93304354929672]])\n",
        "\n",
        "#Al_Ula = ee.FeatureCollection(\"projects/ee-frednumbisi/assets/SAU_Al-Ula\")\n",
        "\n",
        "Al_Ula = ee.FeatureCollection(\"projects/ee-frednumbisi/assets/AlUla_AOIProject\")\n",
        "\n",
        "#Al_UlaROI = ee.Geometry.Polygon(ee.FeatureCollection(\"projects/ee-frednumbisi/assets/AlUla_BoundaryAOI\"))\n",
        "\n",
        "Al_UlaROI = Al_Ula.geometry()\n",
        "\n",
        "# Create function that adds a band representing the image timestamp.\n",
        "def addTime(image):\n",
        "  return image.addBands(image.metadata('system:time_start').divide(1000 * 60 * 60 * 24 * 365))\n",
        "\n",
        "\n",
        "# Load a Sentinel-2 collection\n",
        "s2Collection = S2_MSI_Level1C\n",
        "NIR = \"B8\"  # Name variable for NIR band (B8 for Sentinel2, or B5 for Landsat)\n",
        "\n",
        "# Filter data collection over time period and bands (Red, Green, Blue, and NIR)\n",
        "# On 2nd May 2023, I updated image time series collection interval to Sept 30th 2023 on\n",
        "# and map the time band function over it.\n",
        "s2Filtered = ee.ImageCollection(\"COPERNICUS/S2\").filterDate('2021-01-01', '2023-09-30') \\\n",
        "                         .filterBounds(Al_Ula) \\\n",
        "                         .filterMetadata('CLOUDY_PIXEL_PERCENTAGE', 'less_than', 1) \\\n",
        "                         .map(addTime)\\\n",
        "                         .select(['B4', 'B3', 'B2', NIR])\n",
        "\n",
        "# Create visualisation parameter\n",
        "rgb_vis = {\n",
        "  'min': 0,\n",
        "  'max': 2600,\n",
        "  'gamma': 1.4,\n",
        "}\n",
        "\n",
        "# Create variable to compute and add NDVI image\n",
        "def calNDVI(img):\n",
        "  ndvi = img.normalizedDifference([NIR, 'B4']).rename('NDVI')\n",
        "  return img.addBands(ndvi)\n",
        "\n",
        "def addNDVI(image):\n",
        "  ndvi = image.normalizedDifference([NIR, 'B4']).rename('NDVI')\n",
        "  return image.addBands(ndvi)\n",
        "\n",
        "def get_days(date):\n",
        "  m = date.millis()\n",
        "  return m.divide(1000).divide(3600).toInt()\n",
        "\n",
        "# Create variable to add a 'date' band: number of days since epoch\n",
        "def addDate(img):\n",
        "  d = ee.Date(img.date())\n",
        "  days = get_days(d)\n",
        "  days_img = ee.Image.constant(days).rename('date').toInt32()\n",
        "  return img.addBands(days_img)\n",
        "\n",
        "\n",
        "#-----------------------------------------------------------------------------\n",
        "# // compute the infrared percentage vegetation index (ndvi)\n",
        "def compute_ndvi(image):\n",
        "    nir = image.select('B8').divide(10000)\n",
        "    red = image.select('B4').divide(10000)\n",
        "    ndvi = nir.subtract(red).divide(nir.add(red)).rename('NDVI')\n",
        "    invndvi = ee.Image.constant(0).subtract(ndvi).rename('invndvi')\n",
        "    return image.addBands(ndvi).addBands(invndvi)\n",
        "\n",
        "plusNDVI = s2Filtered.map(compute_ndvi)\n",
        "\n",
        "\n",
        "# / Get the 25th and 75th percentile NDVI value for each pixe in image collection\n",
        "def filter_ndvi75(image):\n",
        "  ndvi_75 = image.reduce(ee.Reducer.percentile([75]))\n",
        "  ndvi_25 = image.reduce(ee.Reducer.percentile([25]))\n",
        "  lte75_mask = image.select('NDVI').lte(ndvi_75)\n",
        "  image = image.updateMask(lte75_mask.select('NDVI'))\n",
        "  image = image.updateMask(image.select('NDVI').gte(ndvi_25))\n",
        "  return image\n",
        "\n",
        "filtered_ndvi75 = plusNDVI.map(filter_ndvi75)\n",
        "\n",
        "BestNDVI25_75perc = filtered_ndvi75.qualityMosaic('NDVI').clip(Al_Ula)\n",
        "\n",
        "#BestNDVI25_75percB = filtered_ndvi75.qualityMosaic('NDVI').clip(Al_Ula).astype(rasterio.uint8)\n",
        "\n",
        "# ndviParams = {min: -1, max: 1, palette: ['blue', 'white', 'green']};\n",
        "# Map.addLayer(ndvi, ndviParams, 'NDVI image');\n",
        "# #print(BestNDVI25_95perc)\n",
        "\n",
        "\n",
        "meanNDVI25_75perc = filtered_ndvi75.mean()\n",
        "stdNDVI25_75perc = filtered_ndvi75.reduce(ee.Reducer.stdDev())\n",
        "\n",
        "\n",
        "\n",
        "# Create and interactive map\n",
        "\n",
        "Map = geemap.Map(center=(40, -100), zoom=4)\n",
        "\n",
        "\n",
        "# # Earth Engine layers to Map\n",
        "# Map.addLayer(meanNDVI25_75perc, rgb_vis, \"Mean NDVI Composite 25th to 75th Perc.\")\n",
        "# Map.addLayer(stdNDVI25_75perc, rgb_vis, \"StDev NDVI Composite 25th to 75th Perc.\")\n",
        "\n",
        "\n",
        "# center the map on an Earth Engine object:\n",
        "# Map.centerObject(ee_object=xy, zoom=13)\n",
        "Map.centerObject(ee_object=Al_Ula, zoom=13); # Get centre map to AlUla\n",
        "\n",
        "\n",
        "viewport = ee.Geometry.Rectangle([39.639554498596446, 25.122177797942495, 36.343656061096446, 27.93304354929672])\n",
        "#print(s2Filtered.size())\n",
        "#print(s2Filtered.filterBounds(viewport).size())\n",
        "\n",
        "\n",
        "\n",
        "\n",
        "#meanNDVIAlUla = meanNDVI25_75perc\n",
        "\n",
        "#meanNDVIAlUla = (meanNDVI25_95perc).astype(rasterio.float32)\n",
        "#stdNDVIAlUla = (stdNDVI25_95perc).astype(rasterio.float32)\n",
        "\n",
        "#-------------------------------------------------------------\n",
        "\n",
        "\n",
        "# import ee\n",
        "\n",
        "# # Define the function to calculate MSAVI2\n",
        "# def calculate_msavi2(image):\n",
        "#     msavi2 = image.expression(\n",
        "#         '0.5 * ((2 * NIR + 1) - (sqrt(pow((2 * NIR + 1), 2) - 8 * (NIR - RED)) ) ) ',\n",
        "#         { 'NIR': image.select('B8').divide(10000),\n",
        "#           'RED': image.select('B4').divide(10000)}).rename('MSAVI2')\n",
        "#     invmsavi2 = ee.Image.constant(0).subtract(msavi2).rename('invmsavi2')\n",
        "#     return image.addBands(msavi2).addBands(invmsavi2)\n",
        "\n",
        "# # Apply the function to the filtered image collection\n",
        "# plusMSAVI2 = s2Filtered.map(calculate_msavi2)\n",
        "\n",
        "# # Define the function to filter based on MSAVI2 percentiles\n",
        "# def filter_msavi75(image):\n",
        "#     msavi_75 = image.reduce(ee.Reducer.percentile([75]))\n",
        "#     msavi_25 = image.reduce(ee.Reducer.percentile([25]))\n",
        "#     lte75_mask = image.select('MSAVI2').lte(msavi_75)\n",
        "#     image = image.updateMask(lte75_mask.select('MSAVI2'))\n",
        "#     image = image.updateMask(image.select('MSAVI2').gte(msavi_25))\n",
        "#     return image\n",
        "\n",
        "# # Apply the filtering function to the plusMSAVI2 image collection\n",
        "# filtered_msavi75 = plusMSAVI2.map(filter_msavi75)\n",
        "\n",
        "# # Calculate the mean and standard deviation of the filtered image collection\n",
        "# meanMSAVI25_75perc = filtered_msavi75.mean()\n",
        "# stdMSAVI25_75perc = filtered_msavi75.reduce(ee.Reducer.stdDev())\n",
        "\n",
        "# # Convert meanMSAVI25_75perc to float\n",
        "# meanMSAVI2AlUla = meanMSAVI25_75perc.toFloat()\n",
        "\n",
        "# # Export the image as a cloud-optimized GeoTIFF\n",
        "# ee.batch.Export.image.toDrive({\n",
        "#     'image': meanMSAVI2AlUla.clip(Al_Ula),\n",
        "#     'description': '2023AlUlaMSAVI2mean',\n",
        "#     'scale': 10,\n",
        "#     'region': meanMSAVI2AlUla.clip(Al_Ula),\n",
        "#     'folder': 'AlUla_VegIndicators2023Mean',\n",
        "#     'maxPixels': 3784216672400,\n",
        "#     'crs': 'EPSG:3857',\n",
        "#     'fileFormat': 'GeoTIFF',\n",
        "#     'formatOptions': {\n",
        "#         'cloudOptimized': True\n",
        "#     }\n",
        "# })\n",
        "\n",
        "\n",
        "\n",
        "#---------------------------------------------------------------------------------\n",
        "\n",
        "\n",
        "\n",
        "\n",
        "# COMPUTE VEGETATION INDICES\n",
        "# ------------------------------------------------------------\n",
        "# NDVI\n",
        "# // compute the normalised difference vegetation index (ndvi)\n",
        "def compute_ndvi(image):\n",
        "    nir = image.select('B8')\n",
        "    red = image.select('B4')\n",
        "    ndvi = nir.subtract(red).divide(nir.add(red)).rename('NDVI')\n",
        "    invndvi = ee.Image.constant(0).subtract(ndvi).rename('invndvi')\n",
        "    return image.addBands(ndvi).addBands(invndvi)\n",
        "\n",
        "plusNDVI = s2Filtered.map(compute_ndvi)\n",
        "\n",
        "\n",
        "# / Get the 25th and 75th percentile NDVI value for each pixe in image collection\n",
        "def filter_ndvi75(image):\n",
        "  ndvi_75 = image.reduce(ee.Reducer.percentile([75]))\n",
        "  ndvi_25 = image.reduce(ee.Reducer.percentile([25]))\n",
        "  lte75_mask = image.select('NDVI').lte(ndvi_75)\n",
        "  image = image.updateMask(lte75_mask.select('NDVI'))\n",
        "  image = image.updateMask(image.select('NDVI').gte(ndvi_25))\n",
        "  return image\n",
        "\n",
        "\n",
        "filtered_ndvi75 = plusNDVI.map(filter_ndvi75)\n",
        "#print(filtered_ndvi95)\n",
        "\n",
        "BestNDVI25_75perc = filtered_ndvi75.qualityMosaic('NDVI').clip(Al_UlaROI)\n",
        "#print(BestNDVI25_95perc)\n",
        "\n",
        "# meanNDVI25_75perc = filtered_ndvi75.mean()\n",
        "meanNDVI25_75perc = filtered_ndvi75.reduce(ee.Reducer.mean())\n",
        "stdNDVI25_75perc = filtered_ndvi75.reduce(ee.Reducer.stdDev())\n",
        "minNDVI25_75perc = filtered_ndvi75.reduce(ee.Reducer.min())\n",
        "maxNDVI25_75perc = filtered_ndvi75.reduce(ee.Reducer.max())\n",
        "medNDVI25_75perc = filtered_ndvi75.reduce(ee.Reducer.median())\n",
        "\n",
        "\n",
        "\n",
        "# ---------------------------------------------------------------------------\n",
        "# SAVI\n",
        "\n",
        "# Function to compute SAVI\n",
        "def compute_savi(image):\n",
        "    # compute the soil-adjusted vegetation index (savi)\n",
        "    savi = image.expression('1.5 * (NIR - RED) / (NIR + RED + 0.5)', {\n",
        "        'NIR': image.select('B8').divide(10000),\n",
        "        'RED': image.select('B4').divide(10000)}).rename('SAVI')\n",
        "    # return image.addBands(gsavi)\n",
        "    # get inverted gsavi\n",
        "    invsavi = ee.Image.constant(0).subtract(savi).rename('invsavi')\n",
        "    return image.addBands(savi).addBands(invsavi)\n",
        "\n",
        "plusSAVI = s2Filtered.map(compute_savi)\n",
        "\n",
        "# plusSAVI = s2Filtered.map(lambda image:\n",
        "#                            image.addBands(image.expression('1.5 * (NIR - RED) / (NIR + RED + 0.5)', {\n",
        "#                                'NIR': image.select('B8').divide(10000),\n",
        "#                                'RED': image.select('B4').divide(10000)}).rename('SAVI'))\n",
        "#                            .addBands(ee.Image.constant(0).subtract(image.select('savi')).rename('invsavi')))\n",
        "\n",
        "\n",
        "def filter_savi75(image):\n",
        "    # Get the 75th percentile NDVI value for image\n",
        "    savi_75 = image.reduce(ee.Reducer.percentile([75]))\n",
        "    # Get the 25th percentile NDVI value for image\n",
        "    savi_25 = image.reduce(ee.Reducer.percentile([25]))\n",
        "    # Create a mask selecting all values less than the 75th percentile\n",
        "    lte75_mask = image.select('SAVI').lte(savi_75)\n",
        "    # Update the image removing all values > the 75th percentile\n",
        "    image = image.updateMask(lte75_mask.select('SAVI'))\n",
        "    # Update the image removing all values < the 25th percentile\n",
        "    image = image.updateMask(image.select('SAVI').gte(savi_25))\n",
        "    return image\n",
        "\n",
        "\n",
        "\n",
        "# filter image collection by NDVI 95th percentile\n",
        "filtered_savi75 = plusSAVI.map(filter_savi75)\n",
        "\n",
        "print(filtered_savi75)\n",
        "\n",
        "# create greenest pixel quality mosaic\n",
        "BestSAVI25_75perc = filtered_savi75.qualityMosaic('SAVI').clip(Al_UlaROI)\n",
        "\n",
        "\n",
        "# leastGSAVI25_95perc = filtered_gsavi95.qualityMosaic('invgsavi')\n",
        "# meanSAVI25_75perc = filtered_savi75.mean()\n",
        "meanSAVI25_75perc = filtered_savi75.reduce(ee.Reducer.mean())\n",
        "stdSAVI25_75perc = filtered_savi75.reduce(ee.Reducer.stdDev());\n",
        "minSAVI25_75perc = filtered_savi75.reduce(ee.Reducer.min());\n",
        "maxSAVI25_75perc = filtered_savi75.reduce(ee.Reducer.max());\n",
        "medSAVI25_75perc = filtered_savi75.reduce(ee.Reducer.median());\n",
        "\n",
        "\n",
        "# ---------------------------------------------------------------------------\n",
        "# MSAVI2\n",
        "\n",
        "# Define the function to compute MSAVI2\n",
        "def compute_msavi2(image):\n",
        "    msavi = image.expression('0.5 * ((2 * NIR + 1) - (sqrt(pow((2 * NIR + 1), 2) - 8 * (NIR - RED)) ) )', {\n",
        "        'NIR': image.select('B8').divide(10000),\n",
        "        'RED': image.select('B4').divide(10000)}).rename('MSAVI')\n",
        "    invmsavi = ee.Image.constant(0).subtract(msavi).rename('invmsavi')\n",
        "    return image.addBands(msavi).addBands(invmsavi).float()\n",
        "\n",
        "\n",
        "\n",
        "# # Map both functions (computing msavi2 and its inverse values) to the image collection\n",
        "plusMSAVI2 = s2Filtered.map(compute_msavi2)\n",
        "\n",
        "\n",
        "def filter_msavi75(image):\n",
        "    msavi_75 = image.reduce(ee.Reducer.percentile([75]))\n",
        "    msavi_25 = image.reduce(ee.Reducer.percentile([25]))\n",
        "    lte75_mask = image.select('MSAVI').lte(msavi_75)\n",
        "    image = image.updateMask(lte75_mask.select('MSAVI'))\n",
        "    image = image.updateMask(image.select('MSAVI').gte(msavi_25))\n",
        "    return image\n",
        "\n",
        "filtered_msavi2575 = plusMSAVI2.map(filter_msavi75)\n",
        "\n",
        "# meanMSAVI25_75perc = filtered_msavi2575.mean()\n",
        "meanMSAVI25_75perc = filtered_msavi2575.reduce(ee.Reducer.mean())\n",
        "stdMSAVI25_75perc = filtered_msavi2575.reduce(ee.Reducer.stdDev())\n",
        "minMSAVI25_75perc = filtered_msavi2575.reduce(ee.Reducer.min())\n",
        "maxMSAVI25_75perc = filtered_msavi2575.reduce(ee.Reducer.max())\n",
        "medMSAVI25_75perc = filtered_msavi2575.reduce(ee.Reducer.median())\n",
        "\n",
        "\n",
        "#-------------------------------------------------------------------------------\n",
        "# GSAVI\n",
        "\n",
        "\n",
        "def compute_gsavi(image):\n",
        "    # compute the soil-adjusted vegetation index (savi)\n",
        "    gsavi = image.expression('1.5 * (NIR - GREEN) / (NIR + GREEN + 0.5)', {\n",
        "        'NIR': image.select('B8').divide(10000),\n",
        "        'GREEN': image.select('B3').divide(10000)}).rename('GSAVI')\n",
        "    # return image.addBands(gsavi)\n",
        "    # get inverted gsavi\n",
        "    invgsavi = ee.Image.constant(0).subtract(gsavi).rename('invgsavi')\n",
        "    return image.addBands(gsavi).addBands(invgsavi)\n",
        "\n",
        "\n",
        "plusGSAVI = s2Filtered.map(compute_gsavi)\n",
        "\n",
        "\n",
        "\n",
        "def filter_gsavi75(image):\n",
        "    gsavi_75 = image.reduce(ee.Reducer.percentile([75]))\n",
        "    gsavi_25 = image.reduce(ee.Reducer.percentile([25]))\n",
        "    lte75_mask = image.select('GSAVI').lte(gsavi_75)\n",
        "    image = image.updateMask(lte75_mask.select('GSAVI'))\n",
        "    image = image.updateMask(image.select('GSAVI').gte(gsavi_25))\n",
        "    return image\n",
        "\n",
        "filtered_gsavi2575 = plusGSAVI.map(filter_gsavi75)\n",
        "\n",
        "# meanGSAVI25_75perc = filtered_gsavi2575.mean()\n",
        "meanGSAVI25_75perc = filtered_gsavi2575.reduce(ee.Reducer.mean())\n",
        "stdGSAVI25_75perc = filtered_gsavi2575.reduce(ee.Reducer.stdDev())\n",
        "minGSAVI25_75perc = filtered_gsavi2575.reduce(ee.Reducer.min())\n",
        "maxGSAVI25_75perc = filtered_gsavi2575.reduce(ee.Reducer.max())\n",
        "medGSAVI25_75perc = filtered_gsavi2575.reduce(ee.Reducer.median())\n",
        "\n",
        "\n",
        "# ------------------------------------------------------------------------------\n",
        "# IPVI\n",
        "\n",
        "def compute_ipvi(image):\n",
        "  # compute the green-red vegetation index (grvi)\n",
        "    ipvi = image.expression('NIR/(NIR + RED)', {\n",
        "      'NIR': image.select('B8').divide(10000),\n",
        "      'RED': image.select('B4').divide(10000)}).rename('IPVI');\n",
        "    # get inverted grvi\n",
        "    invipvi = ee.Image.constant(0).subtract(ipvi).rename('invipvi')\n",
        "    return image.addBands(ipvi).addBands(invipvi)\n",
        "\n",
        "\n",
        "plusIPVI = s2Filtered.map(compute_ipvi)\n",
        "\n",
        "\n",
        "def IPVIfilter(image):\n",
        "    ipvi_75 = image.reduce(ee.Reducer.percentile([75]))\n",
        "    ipvi_25 = image.reduce(ee.Reducer.percentile([25]))\n",
        "    lte75_mask = image.select('IPVI').lte(ipvi_75)\n",
        "    image = image.updateMask(lte75_mask.select('IPVI'))\n",
        "    image = image.updateMask(lte75_mask.select('IPVI').gte(ipvi_25))\n",
        "    return image\n",
        "\n",
        "filtered_ipvi2575 = plusIPVI.map(IPVIfilter)\n",
        "\n",
        "# meanIPVI25_75perc = filtered_ipvi2575.mean()\n",
        "meanIPVI25_75perc = filtered_ipvi2575.reduce(ee.Reducer.mean())\n",
        "stdIPVI25_75perc = filtered_ipvi2575.reduce(ee.Reducer.stdDev())\n",
        "minIPVI25_75perc = filtered_ipvi2575.reduce(ee.Reducer.min())\n",
        "maxIPVI25_75perc = filtered_ipvi2575.reduce(ee.Reducer.max())\n",
        "medIPVI25_75perc = filtered_ipvi2575.reduce(ee.Reducer.median())\n",
        "\n",
        "\n",
        "#----------------------------------------------------\n",
        "# SARVI\n",
        "\n",
        "# Define the function to compute SARVI\n",
        "def compute_sarvi(image):\n",
        "    sarvi = image.expression('(NIR - (RED - 1 * (BLUE - RED))) / (NIR + (RED - 1 * (BLUE - RED)))', {\n",
        "        'NIR': image.select('B8').divide(10000),\n",
        "        'BLUE': image.select('B2').divide(10000),\n",
        "        'RED': image.select('B4').divide(10000)}).rename('SARVI')\n",
        "    invsarvi = ee.Image.constant(0).subtract(sarvi).rename('invsarvi')\n",
        "    return image.addBands(sarvi).addBands(invsarvi)\n",
        "\n",
        "def filter_sarvi75(image):\n",
        "    sarvi_75 = image.reduce(ee.Reducer.percentile([75]))\n",
        "    sarvi_25 = image.reduce(ee.Reducer.percentile([25]))\n",
        "    lte75_mask = image.select('SARVI').lte(sarvi_75)\n",
        "    image = image.updateMask(lte75_mask.select('SARVI'))\n",
        "    image = image.updateMask(lte75_mask.select('SARVI').gte(sarvi_25))\n",
        "    return image\n",
        "\n",
        "# compute SARVI for each image in the image collection using the .map()\n",
        "plusSARVI = s2Filtered.map(compute_sarvi)\n",
        "\n",
        "# Filter each image to the middle 50 percentile (IQR) for the values in each pixel\n",
        "filtered_sarvi2575 = plusSARVI.map(filter_sarvi75)\n",
        "\n",
        "#meanSARVI25_75perc = filtered_sarvi2575.mean()\n",
        "# Reduce the Image Collection to Mean and Standard Deviation for each band in the filtered Image\n",
        "meanSARVI25_75perc = filtered_sarvi2575.reduce(ee.Reducer.mean())\n",
        "stdSARVI25_75perc = filtered_sarvi2575.reduce(ee.Reducer.stdDev())\n",
        "minSARVI25_75perc = filtered_sarvi2575.reduce(ee.Reducer.min())\n",
        "maxSARVI25_75perc = filtered_sarvi2575.reduce(ee.Reducer.max())\n",
        "medSARVI25_75perc = filtered_sarvi2575.reduce(ee.Reducer.median())\n",
        "\n",
        "\n",
        "#-----------------------------------------------------\n",
        "# GRVI\n",
        "# Define the function to compute GRVI\n",
        "\n",
        "def compute_grvi(image):\n",
        "  # compute the green-red vegetation index (grvi)\n",
        "    grvi = image.expression('(GREEN - RED) / (GREEN + RED)', {\n",
        "      'GREEN': image.select('B3').divide(10000),\n",
        "      'RED': image.select('B4').divide(10000)}).rename('GRVI');\n",
        "    # get inverted grvi\n",
        "    invgrvi = ee.Image.constant(0).subtract(grvi).rename('invgrvi')\n",
        "\n",
        "    return image.addBands(grvi).addBands(invgrvi)\n",
        "\n",
        "\n",
        "def GRVIfilter(image):\n",
        "    grvi_75 = image.reduce(ee.Reducer.percentile([75]))\n",
        "    grvi_25 = image.reduce(ee.Reducer.percentile([25]))\n",
        "    lte75_mask = image.select('GRVI').lte(grvi_75)\n",
        "    image = image.updateMask(lte75_mask.select('GRVI'))\n",
        "    image = image.updateMask(lte75_mask.select('GRVI').gte(grvi_25))\n",
        "    return image\n",
        "\n",
        "plusGRVI = s2Filtered.map(compute_grvi)\n",
        "filtered_grvi2575 = plusGRVI.map(GRVIfilter)\n",
        "\n",
        "meanGRVI25_75perc = filtered_grvi2575.mean()\n",
        "\n",
        "\n",
        "# Use the non-default mean reducer for image collection\n",
        "# This will append the name of reducer to the additional bands\n",
        "meanGRVI25_75perc = filtered_grvi2575.reduce(ee.Reducer.mean())\n",
        "\n",
        "# Compute standard deviation (SD) as texture of the vegetation index (GRVI).\n",
        "stdGRVI25_75perc = filtered_grvi2575.reduce(ee.Reducer.stdDev())\n",
        "\n",
        "# Reduce the coposites to single median of the vegetation index (GRVI).\n",
        "#medGRVI25_75perc = filtered_grvi2575.reduce(ee.Reducer.median())\n",
        "minGRVI25_75perc = filtered_grvi2575.reduce(ee.Reducer.min())\n",
        "maxGRVI25_75perc = filtered_grvi2575.reduce(ee.Reducer.max())\n",
        "medGRVI25_75perc = filtered_grvi2575.reduce(ee.Reducer.median())\n",
        "\n",
        "\n",
        "\n",
        "# Reduce GRV IQR to max value and clip image to area of interest\n",
        "BestGRVI25_75perc = filtered_grvi2575.qualityMosaic('GRVI').clip(Al_UlaROI)\n",
        "\n",
        "from pprint import pprint\n",
        "\n",
        "\n",
        "#-------------------------------------------------------------------------------\n",
        "# Create combined reducer and map to image collection\n",
        "CombiReducers = ee.Reducer.mean().combine(\n",
        "  reducer2=ee.Reducer.stdDev(),\n",
        "  sharedInputs=True\n",
        ")\n",
        "\n",
        "# Use the combined reducer to get the mean and SD bands for each band image.\n",
        "GRVIstats = filtered_grvi2575.reduce(\n",
        "  reducer=CombiReducers)\n",
        "\n",
        "# Display the dictionary of band means and SDs.\n",
        "pprint(GRVIstats.getInfo())\n",
        "\n",
        "\n",
        "# # Combine the mean and standard deviation reducers.\n",
        "\n",
        "\n",
        "\n",
        "\n",
        "# CREATE A COMPOSITE IMAGES FOR MEAN AND STD OF VEGETATION INDICES\n",
        "\n",
        "def stackCollection(collection):\n",
        "  # Create an initial image.\n",
        "  first = ee.Image(collection.first()).select([])\n",
        "\n",
        "  # Write a function that appends a band to an image.\n",
        "  def appendBands(image, previous):\n",
        "    return ee.Image(previous).addBands(image)\n",
        "  return ee.Image(collection.iterate(appendBands, first))\n",
        "\n",
        "\n",
        "\n",
        "# Cast each image to float32 bit\n",
        "compositeMeanVIndices = meanNDVI25_75perc.select(['NDVI_mean'])\\\n",
        "  .addBands(meanSAVI25_75perc.select(['SAVI_mean']))\\\n",
        "  .addBands(meanGSAVI25_75perc.select(['GSAVI_mean']))\\\n",
        "  .addBands(meanMSAVI25_75perc.select(['MSAVI_mean']))\\\n",
        "  .addBands(meanIPVI25_75perc.select(['IPVI_mean']))\\\n",
        "  .addBands(meanSARVI25_75perc.select(['SARVI_mean']))\\\n",
        "  .addBands(meanGRVI25_75perc.select(['GRVI_mean']))\n",
        "\n",
        "\n",
        "\n",
        "# Merge the collections.\n",
        "# Merge the collections.\n",
        "#landsat_col = oli_col.merge(etm_col).merge(tm_col)\n",
        "\n",
        "# MeanVIndices_col = meanNDVI25_75perc.select(['NDVI_mean']).merge(meanSAVI25_75perc.select(['SAVI_mean'])).merge(meanGSAVI25_75perc.select(['GSAVI_mean']))\\\n",
        "# .merge(meanMSAVI25_75perc.select(['MSAVI_mean'])).merge(meanIPVI25_75perc.select(['IPVI_mean'])).merge(meanSARVI25_75perc.select(['SARVI_mean']))\\\n",
        "# .merge(meanGRVI25_75perc.select(['GRVI_mean']))\n",
        "\n",
        "\n",
        "# # Define a join.\n",
        "# join = ee.Join.saveAll()\n",
        "# join_col = ee.ImageCollection(\n",
        "#     join.apply(meanNDVI25_75perc.select(['NDVI_mean']), meanSAVI25_75perc.select(['SAVI_mean']),\n",
        "#                meanGSAVI25_75perc.select(['GSAVI_mean']), meanMSAVI25_75perc.select(['MSAVI_mean']),\n",
        "#                meanIPVI25_75perc.select(['IPVI_mean']), meanSARVI25_75perc.select(['SARVI_mean']),\n",
        "#                meanGRVI25_75perc.select(['GRVI_mean'])))\n",
        "\n",
        "# Apply the join and convert the resulting FeatureCollection to an\n",
        "# ImageCollection.\n",
        "\n",
        "# def stackCollection(collection):\n",
        "#   # Create an initial image.\n",
        "#   first = ee.Image(collection.first()).select([])\n",
        "\n",
        "#   # Write a function that appends a band to an image.\n",
        "#   def appendBands(image, previous):\n",
        "#     return ee.Image(previous).addBands(image)\n",
        "#   return ee.Image(collection.iterate(appendBands, first))\n",
        "\n",
        "\n",
        "# # ee.ImageCollection to ee.Image\n",
        "# MeanVIndices_col = stackCollection(compositeMeanVIndices)\n",
        "\n",
        "# join_col = ee.ImageCollection(meanNDVI25_75perc.select(['NDVI_mean']), meanSAVI25_75perc.select(['SAVI_mean']),\n",
        "#                meanGSAVI25_75perc.select(['GSAVI_mean']), meanMSAVI25_75perc.select(['MSAVI_mean']),\n",
        "#                meanIPVI25_75perc.select(['IPVI_mean']), meanSARVI25_75perc.select(['SARVI_mean']),\n",
        "#                meanGRVI25_75perc.select(['GRVI_mean']))\n",
        "\n",
        "\n",
        "# # Get a list of all the image IDs from the Image Collection (Will be used to fetch images directly using ee.Image())\n",
        "# VIs_Ids = MeanVIndices_col.aggregate_array(\"system:id\").getInfo()\n",
        "\n",
        "#-------------------------------------------------------------------------------\n",
        "# Function to mask all values outside the geometry\n",
        "def maskOutside(image, geometry):\n",
        "    mask = ee.Image.constant(1).clip(geometry).mask() # add .not() to mask inside\n",
        "    return image.updateMask(mask)\n",
        "\n",
        "#-------------------------------------------------------------------------------\n",
        "\n",
        "\n",
        "\n",
        "# #Print number of bands\n",
        "# B = compositeMeanVIndices.count\n",
        "# print(B)\n",
        "# print(compositeMeanVIndices.shape)\n",
        "\n",
        "# Display the dictionary of band means and SDs.\n",
        "# pprint(compositeMeanVIndices.getInfo())\n",
        "\n",
        "\n",
        "\n",
        "# compositeStdevVIndices = ee.Image.cat([\n",
        "#   stdNDVI25_95perc.select(['NDVI']),\n",
        "#   ee.ImageCollection(vhAscending.select('VV').merge(vhDescending.select('VV'))).mean(),\n",
        "#   vhDescending.select('VH').mean()\n",
        "# ]).focal_median()\n",
        "\n",
        "# compositeStDevVIndices = ee.Image.cat([stdNDVI25_75perc.select(['NDVI_stdDev'])\n",
        "# Create a composite from Standard deviation of different vegetation indices.\n",
        "compositeStDevVIndices = stdNDVI25_75perc.select(['NDVI_stdDev'])\\\n",
        "  .addBands(stdSAVI25_75perc.select(['SAVI_stdDev']))\\\n",
        "  .addBands(stdGSAVI25_75perc.select(['GSAVI_stdDev']))\\\n",
        "  .addBands(stdMSAVI25_75perc.select(['MSAVI_stdDev']))\\\n",
        "  .addBands(stdIPVI25_75perc.select(['IPVI_stdDev']))\\\n",
        "  .addBands(stdSARVI25_75perc.select(['SARVI_stdDev']))\\\n",
        "  .addBands(stdGRVI25_75perc.select(['GRVI_stdDev']))\n",
        "\n",
        "\n",
        "# Create Composite of MaxIQR of VI\n",
        "compositeMaxVIndices = maxNDVI25_75perc.select(['NDVI_max'])\\\n",
        "  .addBands(maxSAVI25_75perc.select(['SAVI_max']))\\\n",
        "  .addBands(maxGSAVI25_75perc.select(['GSAVI_max']))\\\n",
        "  .addBands(maxMSAVI25_75perc.select(['MSAVI_max']))\\\n",
        "  .addBands(maxIPVI25_75perc.select(['IPVI_max']))\\\n",
        "  .addBands(maxSARVI25_75perc.select(['SARVI_max']))\\\n",
        "  .addBands(maxGRVI25_75perc.select(['GRVI_max']))\n",
        "\n",
        "\n",
        "# Create Composite of MinIQR of VI\n",
        "compositeMinVIndices = minNDVI25_75perc.select(['NDVI_min'])\\\n",
        "  .addBands(minSAVI25_75perc.select(['SAVI_min']))\\\n",
        "  .addBands(minGSAVI25_75perc.select(['GSAVI_min']))\\\n",
        "  .addBands(minMSAVI25_75perc.select(['MSAVI_min']))\\\n",
        "  .addBands(minIPVI25_75perc.select(['IPVI_min']))\\\n",
        "  .addBands(minSARVI25_75perc.select(['SARVI_min']))\\\n",
        "  .addBands(minGRVI25_75perc.select(['GRVI_min']))\n",
        "\n",
        "\n",
        "# Create Composite of MinIQR of All Spectral Bands for Computed VIs\n",
        "compositeAllVIspectralBands = meanNDVI25_75perc.select(['B4_mean', 'B3_mean','B2_mean','B8_mean'])\\\n",
        "  .addBands(meanSAVI25_75perc.select(['B4_mean', 'B3_mean','B2_mean','B8_mean']))\\\n",
        "  .addBands(meanGSAVI25_75perc.select(['B4_mean', 'B3_mean','B2_mean','B8_mean']))\\\n",
        "  .addBands(meanMSAVI25_75perc.select(['B4_mean', 'B3_mean','B2_mean','B8_mean']))\\\n",
        "  .addBands(meanIPVI25_75perc.select(['B4_mean', 'B3_mean','B2_mean','B8_mean']))\\\n",
        "  .addBands(meanSARVI25_75perc.select(['B4_mean', 'B3_mean','B2_mean','B8_mean']))\\\n",
        "  .addBands(meanGRVI25_75perc.select(['B4_mean', 'B3_mean','B2_mean','B8_mean']))\\\n",
        "  .addBands(minNDVI25_75perc.select(['B4_min', 'B3_min','B2_min','B8_min']))\\\n",
        "  .addBands(minSAVI25_75perc.select(['B4_min', 'B3_min','B2_min','B8_min']))\\\n",
        "  .addBands(minGSAVI25_75perc.select(['B4_min', 'B3_min','B2_min','B8_min']))\\\n",
        "  .addBands(minMSAVI25_75perc.select(['B4_min', 'B3_min','B2_min','B8_min']))\\\n",
        "  .addBands(minIPVI25_75perc.select(['B4_min', 'B3_min','B2_min','B8_min']))\\\n",
        "  .addBands(minSARVI25_75perc.select(['B4_min', 'B3_min','B2_min','B8_min']))\\\n",
        "  .addBands(minGRVI25_75perc.select(['B4_min', 'B3_min','B2_min','B8_min']))\\\n",
        "  .addBands(maxNDVI25_75perc.select(['B4_max', 'B3_max','B2_max','B8_max']))\\\n",
        "  .addBands(maxSAVI25_75perc.select(['B4_max', 'B3_max','B2_max','B8_max']))\\\n",
        "  .addBands(maxGSAVI25_75perc.select(['B4_max', 'B3_max','B2_max','B8_max']))\\\n",
        "  .addBands(maxMSAVI25_75perc.select(['B4_max', 'B3_max','B2_max','B8_max']))\\\n",
        "  .addBands(maxIPVI25_75perc.select(['B4_max', 'B3_max','B2_max','B8_max']))\\\n",
        "  .addBands(maxSARVI25_75perc.select(['B4_max', 'B3_max','B2_max','B8_max']))\\\n",
        "  .addBands(maxGRVI25_75perc.select(['B4_max', 'B3_max','B2_max','B8_max']))\\\n",
        "  .addBands(stdNDVI25_75perc.select(['B4_stdDev', 'B3_stdDev','B2_stdDev','B8_stdDev']))\\\n",
        "  .addBands(stdSAVI25_75perc.select(['B4_stdDev', 'B3_stdDev','B2_stdDev','B8_stdDev']))\\\n",
        "  .addBands(stdGSAVI25_75perc.select(['B4_stdDev', 'B3_stdDev','B2_stdDev','B8_stdDev']))\\\n",
        "  .addBands(stdMSAVI25_75perc.select(['B4_stdDev', 'B3_stdDev','B2_stdDev','B8_stdDev']))\\\n",
        "  .addBands(stdIPVI25_75perc.select(['B4_stdDev', 'B3_stdDev','B2_stdDev','B8_stdDev']))\\\n",
        "  .addBands(stdSARVI25_75perc.select(['B4_stdDev', 'B3_stdDev','B2_stdDev','B8_stdDev']))\\\n",
        "  .addBands(stdGRVI25_75perc.select(['B4_stdDev', 'B3_stdDev','B2_stdDev','B8_stdDev']))\n",
        "\n",
        "\n",
        "\n",
        "# Create Composite of MinIQR of All Spectral Bands for Computed VIs\n",
        "compositeVIspectralBands = meanNDVI25_75perc.select(['B4_mean', 'B3_mean','B2_mean','B8_mean'])\\\n",
        "  .addBands(minNDVI25_75perc.select(['B4_min', 'B3_min','B2_min','B8_min']))\\\n",
        "  .addBands(maxNDVI25_75perc.select(['B4_max', 'B3_max','B2_max','B8_max']))\\\n",
        "  .addBands(stdNDVI25_75perc.select(['B4_stdDev', 'B3_stdDev','B2_stdDev','B8_stdDev']))\n",
        "\n",
        "\n",
        "\n",
        "# # Earth Engine layers to Map\n",
        "Map.addLayer(meanNDVI25_75perc, rgb_vis, \"Mean VI Composite 25th to 75th Perc.\")\n",
        "Map.addLayer(meanMSAVI25_75perc, rgb_vis, \"Mean MSAVI2 Composite 25th to 75th Perc.\")\n",
        "Map.addLayer(meanIPVI25_75perc, rgb_vis, \"Mean IPVI Composite 25th to 75th Perc.\")\n",
        "\n",
        "Map.addLayer(stdGRVI25_75perc, rgb_vis, \"StDev GRVI Composite 25th to 75th Perc.\")\n",
        "Map.addLayer(stdSARVI25_75perc, rgb_vis, \"StDev SARVI Composite 25th to 75th Perc.\")\n",
        "Map.addLayer(stdNDVI25_75perc, rgb_vis, \"StDev NDVI Composite 25th to 75th Perc.\")\n",
        "\n",
        "Map.addLayer(minGRVI25_75perc, rgb_vis, \"Min GRVI IQR\")\n",
        "\n",
        "Map.addLayer(compositeMeanVIndices, rgb_vis, \"Mean VI Composite 25th to 75th Perc.\")\n",
        "\n",
        "#meanVI_AlUla = np.float32(compositeMeanVIndices)\n",
        "#stdVI_AlUla = np.float32(compositeStDevVIndices)\n",
        "\n",
        "\n",
        "\n",
        "# # EXPORT IMAGE COLLECTION\n",
        "# # A) Export means as cloud-optimized GeoTIFF.\n",
        "\n",
        "# with rasterio.open('meanIPVIAlUla.tif', 'w', driver='GTiff', height=meanIPVIAlUla.shape[0], width=meanIPVIAlUla.shape[1], count=1,\n",
        "#                    dtype=meanIPVIAlUla.dtype, crs='EPSG:3857', transform=transform) as dst:\n",
        "#     dst.write(meanIPVIAlUla, 1)\n",
        "\n",
        "\n",
        "\n",
        "# # -------------- EXPORT IMAGE TO DRIVE ----------------------------------------\n",
        "# # To export an image to your Drive account, use Export.image.toDrive().\n",
        "# # For example, to export portions of a Landsat image, define a region to export,\n",
        "# # then call ee.batch.Export.image.toDrive:\n",
        "\n",
        "# #Map.addLayer(NDVIAlUla , rgb_vis, '2023 NDVI AlUla');\n",
        "# # // c) Export as cloud-optimized GeoTIFF.\n",
        "# task = ee.batch.Export.image.toDrive(**{\n",
        "#   'image': meanNDVIAlUla.clip(Al_Ula),\n",
        "#   'description': '2023AlUlaNDVImean',\n",
        "#   'scale': 10,\n",
        "#   'region': meanNDVIAlUla.clip(Al_Ula),\n",
        "#   'folder': 'AlUla_VegIndicators2023Mean',\n",
        "#   'maxPixels': 3784216672400,\n",
        "#   'crs': 'EPSG:3857',\n",
        "#   'fileFormat': 'GeoTIFF',\n",
        "#   'formatOptions': {\n",
        "#     'cloudOptimized': True\n",
        "#   }\n",
        "# })\n",
        "\n",
        "# task.start()\n",
        "\n",
        "# import time\n",
        "# while task.active():\n",
        "#   print('Polling for task (id: {}).'.format(task.id))\n",
        "#   time.sleep(5)\n",
        "\n",
        "# NDVImid50perc = ee.Image(meanNDVI25_75perc).select(['NDVI'])\n",
        "\n",
        "\n",
        "\n",
        "\n",
        "#---------------------------------------------------------------------------\n",
        "# Import the Folium library.\n",
        "##import folium\n",
        "\n",
        "### Use Ctrl+/ to comment of uncomment several lines of script\n",
        "# # Define a method for displaying Earth Engine image tiles to folium map.\n",
        "# def add_ee_layer(self, ee_image_object, vis_params, name):\n",
        "#   map_id_dict = ee.Image(ee_image_object).getMapId(vis_params)\n",
        "#   folium.raster_layers.TileLayer(\n",
        "#     tiles = map_id_dict['tile_fetcher'].url_format,\n",
        "#     attr = 'Map Data &copy; <a href=\"https://earthengine.google.com/\">Google Earth Engine</a>',\n",
        "#     name = name,\n",
        "#     overlay = True,\n",
        "#     control = True\n",
        "#   ).add_to(self)\n",
        "\n",
        "# # Add EE drawing method to folium.\n",
        "# folium.Map.add_ee_layer = add_ee_layer\n",
        "\n",
        "# # Set visualization parameters.\n",
        "# vis_params = {\n",
        "#   'min': 0,\n",
        "#   'max': 4000,\n",
        "#   'palette': ['006633', 'E5FFCC', '662A00', 'D8D8D8', 'F5F5F5']}\n",
        "\n",
        "# # Create a folium map object.\n",
        "# my_map = folium.Map(location=[20, 0], zoom_start=3)\n",
        "\n",
        "\n",
        "# # Add the meanNDVI25_95perc to the map object.\n",
        "# my_map.add_ee_layer(meanNDVI25_95perc, rgb_vis, \"Mean NDVI Composite 25th to 95th Perc.\")\n",
        "# my_map.add_ee_layer(stdNDVI25_95perc, rgb_vis, \"StDev NDVI Composite 25th to 95th Perc.\")\n",
        "\n",
        "# # Add a layer control panel to the map.\n",
        "# my_map.add_child(folium.LayerControl())\n",
        "\n",
        "# # Display the map.\n",
        "# display(my_map)\n",
        "\n",
        "Map"
      ],
      "metadata": {
        "id": "qRaHpFO5PS7t"
      },
      "execution_count": null,
      "outputs": []
    },
    {
      "cell_type": "code",
      "source": [
        "!pip install earthpy\n",
        "!pip install geopandas\n",
        "!pip install rasterio\n",
        "\n",
        "!apt-get install -qq libgdal-dev libproj-dev\n",
        "!pip install cartopy\n"
      ],
      "metadata": {
        "id": "8AQYjNs43R2a"
      },
      "execution_count": null,
      "outputs": []
    },
    {
      "cell_type": "code",
      "source": [
        "import cartopy\n",
        "import pandas as pd\n",
        "import geopandas as gpd\n",
        "import folium\n",
        "import os, shutil\n",
        "from glob import glob\n",
        "import numpy as np\n",
        "import rasterio as rio\n",
        "from rasterio.transform import from_origin\n",
        "import matplotlib.pyplot as plt\n",
        "import cartopy.crs as ccrs\n",
        "from rasterio.plot import show, plotting_extent\n",
        "from rasterio.merge import merge\n",
        "from rasterio.warp import calculate_default_transform, reproject, Resampling\n",
        "import earthpy.spatial as es\n",
        "import earthpy.plot as ep\n",
        "\n"
      ],
      "metadata": {
        "colab": {
          "base_uri": "https://localhost:8080/",
          "height": 17
        },
        "id": "4zR7rAc3332Z",
        "outputId": "0f48da3d-c2b4-4eb9-8a1b-3b3a1a4410b2"
      },
      "execution_count": null,
      "outputs": [
        {
          "output_type": "display_data",
          "data": {
            "text/plain": [
              "<IPython.core.display.HTML object>"
            ],
            "text/html": [
              "\n",
              "            <style>\n",
              "                .geemap-dark {\n",
              "                    --jp-widgets-color: white;\n",
              "                    --jp-widgets-label-color: white;\n",
              "                    --jp-ui-font-color1: white;\n",
              "                    --jp-layout-color2: #454545;\n",
              "                    background-color: #383838;\n",
              "                }\n",
              "                    \n",
              "                .geemap-dark .jupyter-button {\n",
              "                    --jp-layout-color3: #383838;\n",
              "                }\n",
              "                \n",
              "                .geemap-colab {\n",
              "                    background-color: var(--colab-primary-surface-color, white);\n",
              "                }\n",
              "                    \n",
              "                .geemap-colab .jupyter-button {\n",
              "                    --jp-layout-color3: var(--colab-primary-surface-color, white);\n",
              "                }\n",
              "            </style>\n",
              "            "
            ]
          },
          "metadata": {}
        }
      ]
    },
    {
      "cell_type": "markdown",
      "source": [
        "##**Principal Component Analysis (PCA)**\n",
        "PCA is a very useful technique in improving your supervised classification results. This is a statistical technique that compresses data from a large number of bands into fewer uncorrelated bands. You can run PCA on your image and add the first few (typically 3) principal component bands to the original composite before sampling training points. The variance from the original multi-spectral (e.g. 28-band) image is captured in the 3-band (or 5-band) PCA image. This sends a stronger signal to the classifier and improves accuracy by allowing it to distinguish different classes better."
      ],
      "metadata": {
        "id": "78EjFlEfkMnV"
      }
    },
    {
      "cell_type": "code",
      "source": [
        "!pip install wxee"
      ],
      "metadata": {
        "id": "DSxUv2I478y8"
      },
      "execution_count": null,
      "outputs": []
    },
    {
      "cell_type": "code",
      "source": [
        "#%matplotlib inline\n",
        "\n",
        "from sklearn.decomposition import PCA\n",
        "import geopandas as gpd\n",
        "import numpy as np\n",
        "import pandas as pd\n",
        "import cv2 as cv\n",
        "from google.colab.patches import cv2_imshow\n",
        "from osgeo import gdal\n",
        "\n",
        "import json\n",
        "import wxee\n",
        "import ee\n",
        "import geemap\n",
        "#import sklearn_flatten, sklearn_unflatten\n"
      ],
      "metadata": {
        "id": "sR_UsOkAkIDr"
      },
      "execution_count": null,
      "outputs": []
    },
    {
      "cell_type": "code",
      "source": [
        "# Import the necessary libraries\n",
        "from PIL import Image\n",
        "from numpy import asarray"
      ],
      "metadata": {
        "id": "WsoFTctm0obT"
      },
      "execution_count": null,
      "outputs": []
    },
    {
      "cell_type": "code",
      "source": [
        "#arr = compositeMeanVIndices.wx.to_xarray(scale=10, crs=\"EPSG:4326\")\n",
        "#print(arr.shape)"
      ],
      "metadata": {
        "id": "uKHl-hypH8to"
      },
      "execution_count": null,
      "outputs": []
    },
    {
      "cell_type": "code",
      "source": [
        "# To perform a PCA, data is first transformed into a numpy array that can be used by sklearn\n",
        "# compositeMeanVIndices\n",
        "# compositeStDevVIndices\n",
        "# compositeMaxVIndices\n",
        "# compositeMinVIndices\n",
        "# compositeVIspectralBands # 16 spectral Bands\n",
        "\n",
        "CompostMeanVI_Coll = ee.ImageCollection(compositeMeanVIndices)\n",
        "CompostMeanVI_Coll.getInfo()\n",
        "#compositeMeanVIndices\n",
        "#from the input ee.Image as a 1D array.\n",
        "#ds1D = compositeAllVIspectralBands.toArray(3);\n",
        "\n",
        "#ds2D = ds1D.toArray(1)\n",
        "#ds3D = ds1D.toArray(2)\n",
        "#ImageArr = np.array(compositeAllVIspectralBands.ReadAsArray())\n",
        "\n",
        "#pixels = x_data.flatten().reshape(1000, 12288)\n",
        "#X = sklearn_flatten(compositeAllVIspectralBands)\n",
        "#print(ImageArr.shape)\n",
        "#print(ds3D.shape)\n",
        "#ds3D\n",
        "\n",
        "\n",
        "\n",
        "#AOI = Al_Ula.geometry()\n",
        "\n",
        "#compositeAllVI_arr = geemap.ee_to_numpy(compositeMeanVIndices, region=AOI)\n",
        "#print(compositeAllVI_arr.shape)"
      ],
      "metadata": {
        "id": "hl-gjnYc8nP8"
      },
      "execution_count": null,
      "outputs": []
    },
    {
      "cell_type": "code",
      "source": [
        "compositeMeanVI_coll_fin = maskOutside(CompostMeanVI_Coll, Al_Ula)"
      ],
      "metadata": {
        "id": "szslBWIKpkzz"
      },
      "execution_count": null,
      "outputs": []
    },
    {
      "cell_type": "code",
      "source": [
        "compositeMeanVI_coll = ee.ImageCollection(compositeMeanVIndices)\n",
        "\n",
        "compositeMeanVI_coll.getInfo()"
      ],
      "metadata": {
        "id": "pZTvrapwlCWD"
      },
      "execution_count": null,
      "outputs": []
    },
    {
      "cell_type": "code",
      "source": [
        "compositeMeanVI_coll_fin = maskOutside(compositeMeanVI_coll, Al_Ula)"
      ],
      "metadata": {
        "id": "smVVgYzCmNW0"
      },
      "execution_count": null,
      "outputs": []
    },
    {
      "cell_type": "code",
      "source": [
        "\n",
        "#After re-projecting the image to Mercator projection, it worked:\n"
      ],
      "metadata": {
        "id": "M8azUi2oqb4O"
      },
      "execution_count": null,
      "outputs": []
    },
    {
      "cell_type": "code",
      "source": [
        "\n",
        "\n",
        "# Export the image, specifying scale and region.\n",
        "# Export the Standardised IQR Images\n",
        "\n",
        "task = ee.batch.Export.image.toDrive(\n",
        "    image = compositeMeanVIndices,\n",
        "    region = Al_Ula.geometry().bounds(), # Or use custom ee.Geometry.Rectangle([minlon, minlat, maxlon, maxlat])\n",
        "    description = '2023AlUla_MeanVI_Composit',\n",
        "    scale = 10,\n",
        "    folder = \"KSA_AlUla_VIIQR_Composits\",\n",
        "    crs = 'EPSG:4326',\n",
        "    #crs ='EPSG:3857', # UTM CRS for Saudi\n",
        "    #crsTransform = proj[\"transform\"],\n",
        "    maxPixels = 1e13,\n",
        "    fileFormat = \"GeoTIFF\",\n",
        "    formatOptions = {\n",
        "    'cloudOptimized': True\n",
        "  }\n",
        "    )\n",
        "\n",
        "task.start()\n",
        "\n",
        "import time\n",
        "while task.active():\n",
        "  print('Polling for task (id: {}).'.format(task.id))\n",
        "  time.sleep(5)"
      ],
      "metadata": {
        "id": "c6Y4fT6oOfej"
      },
      "execution_count": null,
      "outputs": []
    },
    {
      "cell_type": "code",
      "source": [
        "# Export the image, specifying scale and region.\n",
        "task = ee.batch.Export.image.toDrive(**{\n",
        "    'image': l8_image,\n",
        "    'description': 'Landsat8_2020_Nepal',\n",
        "    'folder': output_drive_folder,\n",
        "    'fileNamePrefix': raster_name,\n",
        "    'scale': 30,\n",
        "    'region': gee_aoi,\n",
        "    'fileFormat': 'GeoTIFF',\n",
        "    'formatOptions': {\n",
        "      'cloudOptimized': 'true'\n",
        "    },\n",
        "})\n"
      ],
      "metadata": {
        "id": "vWgJPH2Zr8JU"
      },
      "execution_count": null,
      "outputs": []
    },
    {
      "cell_type": "code",
      "source": [
        "compositeAllVIspectralBands\n",
        "arrayImage1D = compositeAllVIspectralBands.toArray()\n",
        "arrayImage1D"
      ],
      "metadata": {
        "id": "uFYvcOUsOr40"
      },
      "execution_count": null,
      "outputs": []
    },
    {
      "cell_type": "code",
      "source": [],
      "metadata": {
        "id": "nGsE4bPmQbVl"
      },
      "execution_count": null,
      "outputs": []
    },
    {
      "cell_type": "code",
      "source": [
        "# Make an Array Image, with a 1-D Array per pixel.\n",
        "arrayImage1D = compositeMeanVIndices.toArray();\n",
        "\n",
        "# Make an Array Image with a 2-D Array per pixel.\n",
        "arrayImage2D = arrayImage1D.toArray(1)\n",
        "\n",
        "# Make an Array Image with a 3-D Array per pixel.\n",
        "arrayImage3D = arrayImage1D.toArray(2)\n",
        "\n",
        "arrayImage3D"
      ],
      "metadata": {
        "id": "WuW9V7ACJzvx"
      },
      "execution_count": null,
      "outputs": []
    },
    {
      "cell_type": "code",
      "source": [
        "# load the image and convert into\n",
        "# numpy array\n",
        "#img = Image.open(compositeAllVIspectralBands)\n",
        "\n",
        "# asarray() class is used to convert\n",
        "# PIL images into NumPy arrays\n",
        "numpydata = asarray(img)\n",
        "\n",
        "# <class 'numpy.ndarray'>\n",
        "print(type(numpydata))\n",
        "\n",
        "#  shape\n",
        "print(numpydata.shape)"
      ],
      "metadata": {
        "id": "1CdrxXpT1Cnu"
      },
      "execution_count": null,
      "outputs": []
    },
    {
      "cell_type": "code",
      "source": [
        "compositeAllVIspectralBands"
      ],
      "metadata": {
        "id": "JyDSiBH3GW-9"
      },
      "execution_count": null,
      "outputs": []
    },
    {
      "cell_type": "code",
      "source": [
        "pca = PCA(n_components=5)\n",
        "#pca.fit(ImageArr)\n",
        "#PCA(n_components=2)\n",
        "#print(pca.explained_variance_ratio_)\n",
        "#print(pca.singular_values_)"
      ],
      "metadata": {
        "id": "z7so2a1Amf-U"
      },
      "execution_count": null,
      "outputs": []
    },
    {
      "cell_type": "code",
      "source": [
        "# Reshaping the Image Dimension\n",
        "\n",
        "#Get the format of the orginal data\n",
        "n_samples, nx, ny ="
      ],
      "metadata": {
        "id": "XhTZJBzz8BAk"
      },
      "execution_count": null,
      "outputs": []
    },
    {
      "cell_type": "code",
      "source": [
        "# Conduct PCA of All Composite\n",
        "\n",
        "# Run the PCA function\n",
        "compositeAllVIimage = ee.Image(compositeAllVIspectralBands)\n",
        "#pca = PCA(compositeAllVIspectralBands)\n",
        "\n",
        "# Extract the properties of the pca image\n",
        "#variance = pca.toDictionary()\n",
        "#print('Variance of Principal Components', variance)\n",
        "#pca\n",
        "\n",
        "# Convert image to 1D\n",
        "#ds1D = compositeAllVIimage.toArray();\n",
        "\n",
        "# Convert image to 1D\n",
        "#ds2D = ds1D.toArray(1)\n",
        "#ds3D = ds1D.toArray(2)\n",
        "\n",
        "compositeAllVIimage"
      ],
      "metadata": {
        "id": "az6-3qJslDyE"
      },
      "execution_count": null,
      "outputs": []
    },
    {
      "cell_type": "code",
      "source": [
        "# As you see from the printed results, ~97% of the variance\n",
        "# from the original image is captured in the first 3 principal components\n",
        "# We select those and discard others\n",
        "pca = PCA(compositeAllVIspectralBands).select(['pc1', 'pc2', 'pc3'])\n",
        "print('First 3 PCA Bands', pca);\n"
      ],
      "metadata": {
        "id": "w6wpHqWdlIBH"
      },
      "execution_count": null,
      "outputs": []
    },
    {
      "cell_type": "code",
      "source": [],
      "metadata": {
        "id": "A9_pxsnnkL45"
      },
      "execution_count": null,
      "outputs": []
    },
    {
      "cell_type": "markdown",
      "metadata": {
        "id": "TTI2TbjZmEgO"
      },
      "source": [
        "### Exporting each band as single image\n"
      ]
    },
    {
      "cell_type": "code",
      "execution_count": null,
      "metadata": {
        "id": "eLNNaB-sloAV"
      },
      "outputs": [],
      "source": [
        "out_dir = os.path.join(os.path.expanduser('~'), 'Downloads')\n",
        "filename = os.path.join(out_dir, 'MeanVI.tif')\n",
        "\n",
        "AOI = Al_Ula.geometry()\n",
        "\n",
        "# Convert the reduced mean images to float23\n",
        "NDVImean = ee.Image(meanNDVI25_75perc.select(['NDVI_mean']).float())\n",
        "SAVImean = ee.Image(meanSAVI25_75perc.select(['SAVI_mean']).float())\n",
        "GSAVImean = ee.Image(meanGSAVI25_75perc.select(['GSAVI_mean']).float())\n",
        "MSAVImean = ee.Image(meanMSAVI25_75perc.select(['MSAVI_mean']).float())\n",
        "IPVImean = ee.Image(meanIPVI25_75perc.select(['IPVI_mean']).float())\n",
        "SARVImean = ee.Image(meanSARVI25_75perc.select(['SARVI_mean']).float())\n",
        "GRVImean = ee.Image(meanGRVI25_75perc.select(['GRVI_mean']).float())\n"
      ]
    },
    {
      "cell_type": "code",
      "execution_count": null,
      "metadata": {
        "id": "Bk4ocNhnuS7P"
      },
      "outputs": [],
      "source": [
        "# Apply the maskOutside() function to clip image and Replace all values outside region or No Data with -9999\n",
        "\n",
        "#image = maskOutside(compositeMeanVIndices, Al_Ula).unmask(-9999)\n",
        "\n",
        "image_VImean = maskOutside(compositeMeanVIndices, Al_Ula)\n",
        "\n",
        "image_NDVImean = maskOutside(NDVImean, Al_Ula)\n",
        "image_SAVImean = maskOutside(SAVImean, Al_Ula)\n",
        "image_GSAVImean = maskOutside(GSAVImean, Al_Ula)\n",
        "image_MSAVImean = maskOutside(MSAVImean, Al_Ula)\n",
        "image_IPVImean = maskOutside(IPVImean, Al_Ula)\n",
        "image_SARVImean = maskOutside(SARVImean, Al_Ula)\n",
        "image_GRVImean = maskOutside(GRVImean, Al_Ula)\n",
        "\n",
        "\n",
        "#image_std = maskOutside(compositeStDevVIndices, Al_Ula).unmask(-9999)\n",
        "image_std = maskOutside(compositeStDevVIndices, Al_Ula)"
      ]
    },
    {
      "cell_type": "code",
      "execution_count": null,
      "metadata": {
        "id": "wQ4ZTZHyGxMT"
      },
      "outputs": [],
      "source": [
        "# Convert each image of standarDeviation of IQR to float32: To be used for texture-based predictors\n",
        "# Apply the maskOutside() function to clip image and Replace all values outside region or No Data with -9999\n",
        "\n",
        "image_NDVIstD = maskOutside(ee.Image(stdNDVI25_75perc.select(['NDVI_stdDev']).float()), Al_Ula)\n",
        "image_SAVIstD = maskOutside(ee.Image(stdSAVI25_75perc.select(['SAVI_stdDev']).float()), Al_Ula)\n",
        "image_GSAVIstD = maskOutside(ee.Image(stdGSAVI25_75perc.select(['GSAVI_stdDev']).float()), Al_Ula)\n",
        "image_MSAVIstD = maskOutside(ee.Image(stdMSAVI25_75perc.select(['MSAVI_stdDev']).float()), Al_Ula)\n",
        "image_IPVIstD = maskOutside(ee.Image(stdIPVI25_75perc.select(['IPVI_stdDev']).float()), Al_Ula)\n",
        "image_SARVIstD = maskOutside(ee.Image(stdSARVI25_75perc.select(['SARVI_stdDev']).float()), Al_Ula)\n",
        "image_GRVIstD = maskOutside(ee.Image(stdGRVI25_75perc.select(['GRVI_stdDev']).float()), Al_Ula)"
      ]
    },
    {
      "cell_type": "code",
      "execution_count": null,
      "metadata": {
        "id": "WrZOqSlYHlzh"
      },
      "outputs": [],
      "source": [
        "# Convert each image of minimum IQR to float32:\n",
        "\n",
        "image_NDVImin = maskOutside(ee.Image(minNDVI25_75perc.select(['NDVI_min']).float()), Al_Ula)\n",
        "image_SAVImin = maskOutside(ee.Image(minSAVI25_75perc.select(['SAVI_min']).float()), Al_Ula)\n",
        "image_GSAVImin = maskOutside(ee.Image(minGSAVI25_75perc.select(['GSAVI_min']).float()), Al_Ula)\n",
        "image_MSAVImin = maskOutside(ee.Image(minMSAVI25_75perc.select(['MSAVI_min']).float()), Al_Ula)\n",
        "image_IPVImin = maskOutside(ee.Image(minIPVI25_75perc.select(['IPVI_min']).float()), Al_Ula)\n",
        "image_SARVImin = maskOutside(ee.Image(minSARVI25_75perc.select(['SARVI_min']).float()), Al_Ula)\n",
        "image_GRVImin = maskOutside(ee.Image(minGRVI25_75perc.select(['GRVI_min']).float()), Al_Ula)\n",
        "\n"
      ]
    },
    {
      "cell_type": "code",
      "source": [
        "# Conver each image of median IQR to float32\n",
        "\n",
        "image_NDVImed = maskOutside(ee.Image(medNDVI25_75perc.select(['NDVI_median']).float()), Al_Ula)\n",
        "image_SAVImed = maskOutside(ee.Image(medSAVI25_75perc.select(['SAVI_median']).float()), Al_Ula)\n",
        "image_GSAVImed = maskOutside(ee.Image(medGSAVI25_75perc.select(['GSAVI_median']).float()), Al_Ula)\n",
        "image_MSAVImed = maskOutside(ee.Image(medMSAVI25_75perc.select(['MSAVI_median']).float()), Al_Ula)\n",
        "image_IPVImed = maskOutside(ee.Image(medIPVI25_75perc.select(['IPVI_median']).float()), Al_Ula)\n",
        "image_SARVImed = maskOutside(ee.Image(medSARVI25_75perc.select(['SARVI_median']).float()), Al_Ula)\n",
        "image_GRVImed = maskOutside(ee.Image(medGRVI25_75perc.select(['GRVI_median']).float()), Al_Ula)\n"
      ],
      "metadata": {
        "id": "h9-Vmqn48cW6"
      },
      "execution_count": null,
      "outputs": []
    },
    {
      "cell_type": "code",
      "source": [
        "# Convert the reduced image of maximum IQR to float32\n",
        "\n",
        "image_NDVImax = maskOutside(ee.Image(maxNDVI25_75perc.select(['NDVI_max']).float()), Al_Ula)\n",
        "image_SAVImax = maskOutside(ee.Image(maxSAVI25_75perc.select(['SAVI_max']).float()), Al_Ula)\n",
        "image_GSAVImax = maskOutside(ee.Image(maxGSAVI25_75perc.select(['GSAVI_max']).float()), Al_Ula)\n",
        "image_MSAVImax = maskOutside(ee.Image(maxMSAVI25_75perc.select(['MSAVI_max']).float()), Al_Ula)\n",
        "image_IPVImax = maskOutside(ee.Image(maxIPVI25_75perc.select(['IPVI_max']).float()), Al_Ula)\n",
        "image_SARVImax = maskOutside(ee.Image(maxSARVI25_75perc.select(['SARVI_max']).float()), Al_Ula)\n",
        "image_GRVImax = maskOutside(ee.Image(maxGRVI25_75perc.select(['GRVI_max']).float()), Al_Ula)\n",
        "\n"
      ],
      "metadata": {
        "id": "AleM6zUq9HO4"
      },
      "execution_count": null,
      "outputs": []
    },
    {
      "cell_type": "code",
      "source": [
        "# Convert the reduced image of spectral Bands IQR to float32\n",
        "image_B4mean = maskOutside(ee.Image(compositeVIspectralBands.select(['B4_mean']).float()), Al_Ula)\n",
        "image_B3mean = maskOutside(ee.Image(compositeVIspectralBands.select(['B3_mean']).float()), Al_Ula)\n",
        "image_B2mean = maskOutside(ee.Image(compositeVIspectralBands.select(['B2_mean']).float()), Al_Ula)\n",
        "image_B8mean = maskOutside(ee.Image(compositeVIspectralBands.select(['B8_mean']).float()), Al_Ula)\n",
        "image_B4min = maskOutside(ee.Image(compositeVIspectralBands.select(['B4_min']).float()), Al_Ula)\n",
        "image_B3min = maskOutside(ee.Image(compositeVIspectralBands.select(['B3_min']).float()), Al_Ula)\n",
        "image_B2min = maskOutside(ee.Image(compositeVIspectralBands.select(['B2_min']).float()), Al_Ula)\n",
        "image_B8min = maskOutside(ee.Image(compositeVIspectralBands.select(['B8_min']).float()), Al_Ula)\n",
        "image_B4max = maskOutside(ee.Image(compositeVIspectralBands.select(['B4_max']).float()), Al_Ula)\n",
        "image_B3max = maskOutside(ee.Image(compositeVIspectralBands.select(['B3_max']).float()), Al_Ula)\n",
        "image_B2max = maskOutside(ee.Image(compositeVIspectralBands.select(['B2_max']).float()), Al_Ula)\n",
        "image_B8max = maskOutside(ee.Image(compositeVIspectralBands.select(['B8_max']).float()), Al_Ula)\n",
        "image_B4std = maskOutside(ee.Image(compositeVIspectralBands.select(['B4_stdDev']).float()), Al_Ula)\n",
        "image_B3std = maskOutside(ee.Image(compositeVIspectralBands.select(['B3_stdDev']).float()), Al_Ula)\n",
        "image_B2std = maskOutside(ee.Image(compositeVIspectralBands.select(['B2_stdDev']).float()), Al_Ula)\n",
        "image_B8std = maskOutside(ee.Image(compositeVIspectralBands.select(['B8_stdDev']).float()), Al_Ula)\n",
        "\n"
      ],
      "metadata": {
        "id": "y4N9uTXqtTjD"
      },
      "execution_count": null,
      "outputs": []
    },
    {
      "cell_type": "code",
      "source": [
        "image_B4mean.getInfo()"
      ],
      "metadata": {
        "id": "JVCkWugXvVj3"
      },
      "execution_count": null,
      "outputs": []
    },
    {
      "cell_type": "markdown",
      "metadata": {
        "id": "Nd8emuuPMNEx"
      },
      "source": [
        "### ***FEATURE SCALING***\n",
        "\n",
        "Normalisation or Standardization of Vegetation indices"
      ]
    },
    {
      "cell_type": "code",
      "execution_count": null,
      "metadata": {
        "id": "BqGDeiAQMurP"
      },
      "outputs": [],
      "source": [
        "# Compute standardised median image\n",
        "# ndvi1999 = NIR.subtract(Red).divide(NIR.add(Red))\n",
        "\n",
        "# #maskOutside(ee.Image(filtered_grvi2575.qualityMosaic('GRVI').select(['GRVI']).float()), Al_Ula)\n",
        "\n",
        "# Reduce IRQ of Vegetation index to max value (i.e. the best/highest value)\n",
        "# Standard max of IQR by subtracting the Mean IQR and dividing by SD of IQR\n",
        "# standard_NDVI = maskOutside(ee.Image(filtered_ndvi75.qualityMosaic('NDVI').select(['NDVI']).float()), Al_Ula).subtract(image_NDVImean).divide(image_NDVIstD)\n",
        "\n",
        "standard_NDVI = image_NDVImed.subtract(image_NDVImean).divide(image_NDVIstD)\n",
        "standard_SAVI = image_SAVImed.subtract(image_SAVImean).divide(image_SAVIstD)\n",
        "standard_GSAVI = image_GSAVImed.subtract(image_GSAVImean).divide(image_GSAVIstD)\n",
        "standard_MSAVI = image_MSAVImed.subtract(image_MSAVImean).divide(image_MSAVIstD)\n",
        "standard_IPVI = image_IPVImed.subtract(image_IPVImean).divide(image_IPVIstD)\n",
        "standard_SARVI = image_SARVImed.subtract(image_SARVImean).divide(image_SARVIstD)\n",
        "\n",
        "standard_GRVI = image_GRVImax.subtract(image_GRVImean).divide(image_GRVIstD)\n",
        "\n",
        "\n",
        "# Visualise computed image\n",
        "Map.addLayer(standard_GRVI, rgb_vis, \"GRVI Standardised IQR\")\n",
        "Map\n",
        "\n",
        "# Map standardisation across each NDVI image in collection\n",
        "\n"
      ]
    },
    {
      "cell_type": "code",
      "source": [
        "spectral_BandsIQR = {\"image_B4mean\":image_B4mean ,\"image_B3mean\":image_B3mean,\"image_B2mean\":image_B2mean,\"image_B8mean\":image_B8mean, \"image_B4min\":image_B4min, \"image_B3min\":image_B3min,\n",
        "                     \"image_B2min\":image_B2min,\"image_B8min\":image_B8min,\"image_B4max\":image_B4max, \"image_B3max\":image_B3max, \"image_B2max\":image_B2max,\n",
        "                     \"image_B8max\":image_B8max, \"image_B4std\":image_B4std, \"image_B3std\":image_B3std, \"image_B2std\":image_B2std, \"image_B8std\":image_B8std}"
      ],
      "metadata": {
        "id": "cslxJ-O5zwz4"
      },
      "execution_count": null,
      "outputs": []
    },
    {
      "cell_type": "code",
      "source": [
        "spectral_BandsIQR2 = { \"image_B4max\":image_B4max, \"image_B3max\":image_B3max, \"image_B2max\":image_B2max,\n",
        "                     \"image_B8max\":image_B8max, \"image_B4std\":image_B4std, \"image_B3std\":image_B3std, \"image_B2std\":image_B2std, \"image_B8std\":image_B8std}"
      ],
      "metadata": {
        "id": "vEISD8MLj4y6"
      },
      "execution_count": null,
      "outputs": []
    },
    {
      "cell_type": "code",
      "source": [
        "for i in range(len(spectral_BandsIQR)):\n",
        "  name = spectral_BandsIQR[i]\n",
        "  Bandname = spectral_BandsIQR[i]\n",
        "\n",
        "  fname = ee.String(Bandname).getInfo()\n",
        "  #print('2023AlUla_%s_IQR'%(name))\n",
        "  spectral_BandsIQR[i].getInfo()"
      ],
      "metadata": {
        "id": "xzae_O-x0xQl"
      },
      "execution_count": null,
      "outputs": []
    },
    {
      "cell_type": "code",
      "source": [
        "for key, value in spectral_BandsIQR.items():\n",
        "  fname = ee.String(key).getInfo()\n",
        "  print('2023AlUla_IQR_'+value)\n",
        "  #Bandname = spectral_BandsIQR[i]\n"
      ],
      "metadata": {
        "id": "FT8MsgZo_35e"
      },
      "execution_count": null,
      "outputs": []
    },
    {
      "cell_type": "code",
      "source": [
        "\n",
        "# Export the Spectral Band IQR Images\n",
        "for key, value in spectral_BandsIQR2.items():\n",
        "  fname = ee.String(key).getInfo()\n",
        "\n",
        "  task = ee.batch.Export.image.toDrive(\n",
        "    #image = Bandname.replace('\"', ''),\n",
        "    #image = Bandname.strip(),\n",
        "    image = value,\n",
        "    region = Al_Ula.geometry().bounds(), # Or use custom ee.Geometry.Rectangle([minlon, minlat, maxlon, maxlat])\n",
        "    description = '2023AlUla_IQR_'+fname,\n",
        "    scale = 10,\n",
        "    folder = \"KSA_AlUla_SprectralBands_IQR\",\n",
        "    crs = 'EPSG:4326',\n",
        "    #crs ='EPSG:3857', # UTM CRS for Saudi\n",
        "    #crsTransform = proj[\"transform\"],\n",
        "    maxPixels = 1e13,\n",
        "    fileFormat = \"GeoTIFF\",\n",
        "    formatOptions = {\n",
        "    'cloudOptimized': True\n",
        "  }\n",
        "    )\n",
        "\n",
        "  task.start()\n",
        "\n",
        "  import time\n",
        "\n",
        "  while task.active():\n",
        "    counter = 0\n",
        "    print('Polling for task (id: {}).process: {}'.format(task.id, counter))\n",
        "    counter += 1\n",
        "    time.sleep(5)\n",
        "\n",
        "\n",
        "\n"
      ],
      "metadata": {
        "id": "JS-vlQnkvv5V"
      },
      "execution_count": null,
      "outputs": []
    },
    {
      "cell_type": "code",
      "source": [
        "# Get location of the band rasters images (.tif files) in Google Drive\n",
        "VIbands_folder_path = \"/content/drive/My Drive/KSA_AlUla_SprectralBands_IQR/\"\n",
        "\n",
        "# Get the names of all band rasters in the folder as a list\n",
        "\n",
        "VIband_rasters = [os.path.join(VIbands_folder_path, f) for f in os.listdir(VIbands_folder_path) if f.endswith(\".tif\")]\n"
      ],
      "metadata": {
        "id": "ql9phcg32tOe"
      },
      "execution_count": null,
      "outputs": []
    },
    {
      "cell_type": "code",
      "source": [
        "VIband_rasters"
      ],
      "metadata": {
        "id": "g3YV3eH42-FO"
      },
      "execution_count": null,
      "outputs": []
    },
    {
      "cell_type": "code",
      "source": [
        "# Open the first band rasteR\n",
        "# Stacking multiple .tif files into a multiple band stack using Rasterio\n",
        "# Using Rasterio to stack multiple bands without using subprocess commands\n",
        "#\n",
        "\n",
        "import rasterio\n",
        "\n",
        "#file_list = ['file1.tif', 'file2.tif', 'file3.tif']\n",
        "\n",
        "# Read metadata of first file\n",
        "with rasterio.open(VIband_rasters[0]) as src0:\n",
        "    meta = src0.meta\n",
        "\n",
        "# Update meta to reflect the number of layers\n",
        "meta.update(count = len(VIband_rasters))\n",
        "\n",
        "# Read each layer and write it to stack\n",
        "with rasterio.open('VIBandsstack.tif', 'w', **meta) as dst:\n",
        "    for id, layer in enumerate(VIband_rasters, start=1):\n",
        "        with rasterio.open(layer) as src1:\n",
        "            dst.write_band(id, src1.read(1))"
      ],
      "metadata": {
        "id": "TLPvP6P42ulL"
      },
      "execution_count": null,
      "outputs": []
    },
    {
      "cell_type": "code",
      "source": [
        "%matplotlib inline\n",
        "\n",
        "from sklearn.decomposition import PCA\n",
        "import datacube\n",
        "import geopandas as gpd\n",
        "from datacube.utils.geometry import Geometry\n",
        "\n",
        "from deafrica_tools.datahandling import load_ard\n",
        "from deafrica_tools.plotting import rgb\n",
        "from deafrica_tools.classification import sklearn_flatten, sklearn_unflatten\n",
        "from deafrica_tools.areaofinterest import define_area"
      ],
      "metadata": {
        "id": "xT78WwAc7cj-"
      },
      "execution_count": null,
      "outputs": []
    },
    {
      "cell_type": "markdown",
      "metadata": {
        "id": "XlYJgDCCMmpg"
      },
      "source": [
        "### Exporting the Standardised Images"
      ]
    },
    {
      "cell_type": "code",
      "execution_count": null,
      "metadata": {
        "id": "FEtqq5_nwGqp"
      },
      "outputs": [],
      "source": [
        "# Export the Standardised IQR Images\n",
        "\n",
        "task = ee.batch.Export.image.toDrive(\n",
        "    image = standard_GRVI,\n",
        "    region = Al_Ula.geometry().bounds(), # Or use custom ee.Geometry.Rectangle([minlon, minlat, maxlon, maxlat])\n",
        "    description = '2023AlUla_GRVI_stdised_medIQR',\n",
        "    scale = 10,\n",
        "    folder = \"KSA_AlUla_Standardised_medIQR\",\n",
        "    crs = 'EPSG:4326',\n",
        "    #crs ='EPSG:3857', # UTM CRS for Saudi\n",
        "    #crsTransform = proj[\"transform\"],\n",
        "    maxPixels = 1e13,\n",
        "    fileFormat = \"GeoTIFF\",\n",
        "    formatOptions = {\n",
        "    'cloudOptimized': True\n",
        "  }\n",
        "    )\n",
        "\n",
        "task.start()\n",
        "\n",
        "import time\n",
        "while task.active():\n",
        "  print('Polling for task (id: {}).'.format(task.id))\n",
        "  time.sleep(5)"
      ]
    },
    {
      "cell_type": "code",
      "source": [
        "task.status()"
      ],
      "metadata": {
        "id": "pwUDUgkFqZNw"
      },
      "execution_count": null,
      "outputs": []
    },
    {
      "cell_type": "code",
      "execution_count": null,
      "metadata": {
        "id": "SN2rx714vwno"
      },
      "outputs": [],
      "source": [
        "# Get the original CRS and geotransform of the image\n",
        "#proj = image.projection().getInfo()\n",
        "\n",
        "# Create a filename for the downloaded image\n",
        "#filename = image_id.split(\"/\")[-1]\n",
        "\n",
        "# Export the image with the original CRS and geotransform\n",
        "task = ee.batch.Export.image.toDrive(\n",
        "    image = image_GRVImean,\n",
        "    region = Al_Ula.geometry().bounds(), # Or use custom ee.Geometry.Rectangle([minlon, minlat, maxlon, maxlat])\n",
        "    description = '2023AlUlaGRVImeanIQR',\n",
        "    scale = 10,\n",
        "    folder = \"KSA_AlUla_MeanVI_IQR_20230725\",\n",
        "    crs = 'EPSG:4326',\n",
        "    #crs ='EPSG:3857', # UTM CRS for Saudi\n",
        "    #crsTransform = proj[\"transform\"],\n",
        "    maxPixels = 1e13,\n",
        "    fileFormat = \"GeoTIFF\",\n",
        "    formatOptions = {\n",
        "    'cloudOptimized': True\n",
        "  }\n",
        "    )\n",
        "\n",
        "task.start()\n",
        "\n",
        "import time\n",
        "while task.active():\n",
        "  print('Polling for task (id: {}).'.format(task.id))\n",
        "  time.sleep(5)\n",
        "#print(f\"Exporting {filename}...\")"
      ]
    },
    {
      "cell_type": "code",
      "execution_count": null,
      "metadata": {
        "id": "qlRxuvgqyBzh"
      },
      "outputs": [],
      "source": [
        "task.status()"
      ]
    },
    {
      "cell_type": "code",
      "execution_count": null,
      "metadata": {
        "id": "iOpykMrK4fdO"
      },
      "outputs": [],
      "source": [
        "# Export the image with the original CRS and geotransform\n",
        "task = ee.batch.Export.image.toDrive(\n",
        "    image = image_GRVIstD,\n",
        "    region = Al_Ula.geometry().bounds(), # Or use custom ee.Geometry.Rectangle([minlon, minlat, maxlon, maxlat])\n",
        "    description = '2023AlUlaGRVIstdIQR',\n",
        "    scale = 10,\n",
        "    folder = \"KSA_AlUla_stdDevVI_IQR_202311o2\",\n",
        "    crs = 'EPSG:4326',\n",
        "    #crs = 'EPSG:3857',\n",
        "    #crs = proj[\"crs\"],\n",
        "    #crsTransform = proj[\"transform\"],\n",
        "    maxPixels = 1e13,\n",
        "    fileFormat = \"GeoTIFF\",\n",
        "    formatOptions = {\n",
        "    'cloudOptimized': True\n",
        "  }\n",
        "    )\n",
        "\n",
        "task.start()\n",
        "\n",
        "import time\n",
        "while task.active():\n",
        "  print('Polling for task (id: {}).'.format(task.id))\n",
        "  time.sleep(5)\n",
        "\n"
      ]
    },
    {
      "cell_type": "code",
      "execution_count": null,
      "metadata": {
        "id": "uSUCk1Ws5DNU"
      },
      "outputs": [],
      "source": [
        "task.status()"
      ]
    },
    {
      "cell_type": "code",
      "execution_count": null,
      "metadata": {
        "id": "rZs-eH8A90ig"
      },
      "outputs": [],
      "source": [
        "# Export the image with the original CRS and geotransform\n",
        "task = ee.batch.Export.image.toDrive(\n",
        "    image = image_VImean,\n",
        "    region = Al_Ula.geometry().bounds(), # Or use custom ee.Geometry.Rectangle([minlon, minlat, maxlon, maxlat])\n",
        "    description = '2023AlUlaVI_IQRmean',\n",
        "    scale = 10,\n",
        "    folder = \"KSA_AlUla_MeanVI_IQR_20230725b\",\n",
        "    crs = 'EPSG:3857',\n",
        "    #crs = proj[\"crs\"],\n",
        "    #crsTransform = proj[\"transform\"],\n",
        "    maxPixels = 1e13,\n",
        "    fileFormat = \"GeoTIFF\",\n",
        "    formatOptions = {\n",
        "    'cloudOptimized': True\n",
        "  }\n",
        "    )\n",
        "\n",
        "task.start()\n",
        "\n",
        "import time\n",
        "while task.active():\n",
        "  print('Polling for task (id: {}).'.format(task.id))\n",
        "  time.sleep(5)\n"
      ]
    },
    {
      "cell_type": "code",
      "execution_count": null,
      "metadata": {
        "id": "Mt40kE2E-SKj"
      },
      "outputs": [],
      "source": [
        "task.status()"
      ]
    },
    {
      "cell_type": "markdown",
      "metadata": {
        "id": "tbt3uvcd5FIg"
      },
      "source": [
        "### Export All bands in Single image"
      ]
    },
    {
      "cell_type": "code",
      "execution_count": null,
      "metadata": {
        "id": "4xh1_809m7pw"
      },
      "outputs": [],
      "source": [
        "#image = compositeMeanVIndices.clip(AOI).unmask()\n",
        "\n",
        "# geemap.ee_export_image(\n",
        "#     image, filename=filename, scale=100, region=AOI, file_per_band=False\n",
        "# )"
      ]
    },
    {
      "cell_type": "markdown",
      "metadata": {
        "id": "CQ-sUxKSmHFv"
      },
      "source": [
        "### Exporting each band as one image"
      ]
    },
    {
      "cell_type": "code",
      "execution_count": null,
      "metadata": {
        "id": "NTu6hiOclqoD"
      },
      "outputs": [],
      "source": [
        "# geemap.ee_export_image(\n",
        "#     image, filename=filename, scale=10, region=AOI, file_per_band=True\n",
        "# )\n"
      ]
    },
    {
      "cell_type": "code",
      "execution_count": null,
      "metadata": {
        "id": "s2jfnRn1QrRR"
      },
      "outputs": [],
      "source": [
        "# To see what you are doing before starting the download loop, you could generate a plot using e.g.\n",
        "\n",
        "import geemap\n",
        "Map = geemap.Map()\n",
        "\n",
        "center = Al_Ula.geometry().centroid().getInfo()\n",
        "\n",
        "Map.setCenter(center[\"coordinates\"][0], center[\"coordinates\"][1], 6)\n",
        "\n",
        "Map.addLayer(compositeMeanVIndices.clip(Al_Ula), {}, \"Layer\")\n",
        "\n",
        "Map.addLayer(Al_Ula.geometry().bounds(), {}, 'Rectangle')\n",
        "Map\n"
      ]
    },
    {
      "cell_type": "markdown",
      "metadata": {
        "id": "DMi6TxNXHpi6"
      },
      "source": [
        "### GET THE DEM (Elevation) Data for Analysis:Thresholding\n",
        "\n",
        "The DEM is from the USGS SRTMGL1 30m resolution Data"
      ]
    },
    {
      "cell_type": "code",
      "execution_count": null,
      "metadata": {
        "id": "m6lL8noQBnxN"
      },
      "outputs": [],
      "source": [
        "# Print the elevation of Mount Everest.\n",
        "demModelglobal = ee.Image('USGS/SRTMGL1_003')\n",
        "\n",
        "#xy = ee.Geometry.Point([86.9250, 27.9881])\n",
        "\n",
        "#elev = dem.sample(xy, 30).first().get('elevation').getInfo()\n",
        "\n",
        "#print('Mount Everest elevation (m):', elev)"
      ]
    },
    {
      "cell_type": "code",
      "execution_count": null,
      "metadata": {
        "id": "8KARX-KhIVNJ"
      },
      "outputs": [],
      "source": [
        "# To see what you are doing before starting the download loop, you could generate a plot using e.g.\n",
        "\n",
        "import geemap\n",
        "Map = geemap.Map()\n",
        "\n",
        "#center = KSA_ForestFire_Area.geometry().centroid().getInfo()\n",
        "\n",
        "Map.setCenter(center[\"coordinates\"][0], center[\"coordinates\"][1], 6)\n",
        "\n",
        "Map.addLayer(demModelglobal.clip(AlUla_DEMextent4TWI), {}, \"Layer\")\n",
        "\n",
        "Map.addLayer(AlUla_DEMextent4TWI.geometry().bounds(), {}, 'Rectangle')\n",
        "Map\n"
      ]
    },
    {
      "cell_type": "code",
      "execution_count": null,
      "metadata": {
        "id": "ssLoi7ZpItyt"
      },
      "outputs": [],
      "source": [
        "# Function to mask all values outside the geometry\n",
        "def maskOutside(image, geometry):\n",
        "    mask = ee.Image.constant(1).clip(geometry).mask() # add .not() to mask inside\n",
        "    return image.updateMask(mask)\n",
        "\n",
        "# Apply the maskOutside() function to clip DEM image and Replace all values outside region with -9999\n",
        "\n",
        "#FFire_DEM = (maskOutside(demModelglobal, KSA_ForestFire_Area)).float()\n",
        "#FFire_DEM = maskOutside(ee.Image(demModelglobal).float(), KSA_ForestFire_Area)\n",
        "\n",
        "#AlUlaProjec_DEM = maskOutside(ee.Image(demModelglobal).float(), Al_Ula)\n",
        "\n",
        "AlUla_DEMextent4TWI_DEM = maskOutside(ee.Image(demModelglobal).float(), AlUla_DEMextent4TWI)\n"
      ]
    },
    {
      "cell_type": "code",
      "execution_count": null,
      "metadata": {
        "id": "0Vku6xcGKNtB"
      },
      "outputs": [],
      "source": [
        "# Get the original CRS and geotransform of the image\n",
        "#projDEM = FFire_DEM.projection().getInfo()\n",
        "\n",
        "# Create a filename for the downloaded image\n",
        "#filename = image_id.split(\"/\")[-1]\n",
        "\n",
        "# Export the image with the original CRS and geotransform\n",
        "task = ee.batch.Export.image.toDrive(\n",
        "    image = AlUla_DEMextent4TWI_DEM,\n",
        "    region = AlUla_DEMextent4TWI.geometry(),\n",
        "    #region = KSA_ForestFire_Area.geometry().bounds(), # Or use custom ee.Geometry.Rectangle([minlon, minlat, maxlon, maxlat])\n",
        "    description = '2023KSA_AlUla_DEMextent4TWI_30mDEM',\n",
        "    scale = 30,\n",
        "    folder = \"KSA_AlUlaproject_DEM_20231102\",\n",
        "    crs = \"EPSG:4326\",\n",
        "    #crs = projDEM[\"crs\"],\n",
        "    maxPixels = 1e13,\n",
        "    fileFormat = \"GeoTIFF\",\n",
        "    formatOptions = {\n",
        "    'cloudOptimized': True\n",
        "  }\n",
        "    )\n",
        "\n",
        "task.start()\n",
        "\n",
        "import time\n",
        "while task.active():\n",
        "  print('Polling for task (id: {}).'.format(task.id))\n",
        "  time.sleep(10)"
      ]
    },
    {
      "cell_type": "markdown",
      "metadata": {
        "id": "Px2urrJjSCEJ"
      },
      "source": [
        "***Download Clipped Images Separately***"
      ]
    },
    {
      "cell_type": "code",
      "execution_count": null,
      "metadata": {
        "id": "IArb6mUeSAwy"
      },
      "outputs": [],
      "source": [
        "# Download each image\n",
        "for image_id in VIs_Ids:\n",
        "    #image = ee.Image(image_id).select('Mean') # Select on the images with estimate Mean reduction\n",
        "\n",
        "    image = ee.Image(image_id)\n",
        "\n",
        "    # Replace all values outside region with -9999\n",
        "    image = maskOutside(image, Al_Ula).unmask(-9999)\n",
        "\n",
        "    # Get the original CRS and geotransform of the image\n",
        "    proj = image.projection().getInfo()\n",
        "\n",
        "    # Create a filename for the downloaded image\n",
        "    filename = image_id.split(\"/\")[-1]\n",
        "\n",
        "    # Export the image with the original CRS and geotransform\n",
        "    task = ee.batch.Export.image.toDrive(\n",
        "        image = image,\n",
        "        region = Al_Ula.geometry().bounds(), # Or use custom ee.Geometry.Rectangle([minlon, minlat, maxlon, maxlat])\n",
        "        description = filename,\n",
        "        folder = \"KSA_AlUla_MeanVI_IQR\",\n",
        "        crs = proj[\"crs\"],\n",
        "        crsTransform = proj[\"transform\"],\n",
        "        maxPixels = 1e13,\n",
        "        fileFormat = \"GeoTIFF\"\n",
        "    )\n",
        "    task.start()\n",
        "\n",
        "    print(f\"Exporting {filename}...\")"
      ]
    },
    {
      "cell_type": "code",
      "execution_count": null,
      "metadata": {
        "id": "pn-EiSBSh7DG"
      },
      "outputs": [],
      "source": [
        "!pip install descartedlabs\n",
        "!pip install geojson"
      ]
    },
    {
      "cell_type": "code",
      "execution_count": null,
      "metadata": {
        "id": "gTDEi8ldhRmW"
      },
      "outputs": [],
      "source": [
        "\n",
        "import descarteslabs as dl\n",
        "import descarteslabs.workflows as wf\n",
        "\n",
        "import ipyleaflet\n",
        "import geojson\n",
        "\n"
      ]
    },
    {
      "cell_type": "code",
      "execution_count": null,
      "metadata": {
        "id": "PILgnNap-9s9"
      },
      "outputs": [],
      "source": [
        "AlUlaroi = Al_Ula.geometry()\n",
        "\n",
        "\n",
        "out_dir = os.path.join(os.path.expanduser('~'), 'Downloads')\n",
        "filename = os.path.join(out_dir, 'compositeMeanVIndices.tif')\n"
      ]
    },
    {
      "cell_type": "code",
      "execution_count": null,
      "metadata": {
        "id": "5o2Ejg6J_AoN"
      },
      "outputs": [],
      "source": [
        "# Export all Bands as one single image\n",
        "\n",
        "# Clip images using the AOI\n",
        "\n",
        "#compositeMeanVIclip = compositeMeanVIndices.clip(Al_Ula)\n",
        "\n",
        "compositeMeanVIclip = compositeMeanVIndices.clip(AlUlaAOI).unmask()\n",
        "geemap.ee_export_image(\n",
        "    compositeMeanVIclip, filename=filename, scale=10, maxPixels=1e13, region=AlUlaAOI, file_per_band=False\n",
        ")\n"
      ]
    },
    {
      "cell_type": "code",
      "execution_count": null,
      "metadata": {
        "id": "uqqF-Uy8_iB4"
      },
      "outputs": [],
      "source": [
        "# Export each Band as one single image\n",
        "#The Fix\n",
        "#To fix it you need to construct a simpler region of interest and pass it to the export function. For example by constructing a polygon yourself:\n",
        "\n",
        "# roi_simple = ee.Geometry.Polygon(\n",
        "#     [[[-179, 85],\n",
        "#       [-179, 11],\n",
        "#       [-48, 11],\n",
        "#       [-48, 85]]], None, False)\n",
        "\n",
        "# by simplifying the featureCollection first, before passing it to the export function:\n",
        "\n",
        "# var Al_Ula_bounding = Al_Ula.map(function(feature){\n",
        "#   return feature.bounds()\n",
        "# })\n",
        "\n",
        "\n",
        "Al_Ula_bounding = Al_Ula.map(lambda feature: feature.bounds())\n",
        "#roi_simple = Al_Ula_bounding.geometry()\n",
        "\n",
        "Al_Ula_simple = Al_Ula_bounding.geometry()\n",
        "\n",
        "geemap.ee_export_image(\n",
        "    compositeMeanVIclip, filename=filename, scale=10, maxPixels=1e13, region=Al_Ula_simple, file_per_band=True\n",
        ")\n"
      ]
    },
    {
      "cell_type": "code",
      "execution_count": null,
      "metadata": {
        "id": "O3t88fRuzDR0"
      },
      "outputs": [],
      "source": [
        "\n",
        "\n",
        "\n",
        "# // c) Export Image as cloud-optimized GeoTIFF to Google Drive\n",
        "task = ee.batch.Export.image.toDrive(**{\n",
        "  'image': compositeMeanVIndices,\n",
        "  'description': 'AlUlaVIcomposites2023',\n",
        "  'scale': 10,\n",
        "  'region': viewport.getInfo()['coordinates'],\n",
        "  'folder': 'AlUlaVIcomposites2023',\n",
        "  'maxPixels': 1e13,\n",
        "  'crs': 'EPSG:3857',\n",
        "  'fileFormat': 'GeoTIFF',\n",
        "  'formatOptions': {\n",
        "    'cloudOptimized': True\n",
        "  }\n",
        "})\n",
        "\n",
        "# 3784216672400\n",
        "task.start()\n",
        "\n",
        "import time\n",
        "while task.active():\n",
        "  print('Polling for task (id: {}).'.format(task.id))\n",
        "  time.sleep(5)\n",
        "\n",
        "# Clip images using the AOI\n",
        "compositeMeanVIclip = compositeMeanVIndices.clip(Al_Ula)\n",
        "\n",
        "task = ee.batch.Export.image.toDrive(image=compositeMeanVIclip,\n",
        "                                     scale=10,\n",
        "                                     fileFormat='GeoTIFF',\n",
        "                                     description='AlUlaVImeanComposites',\n",
        "                                     folder='AlUlaVIcomposites2023',\n",
        "                                     maxPixels=1e13)\n",
        "\n",
        "task.start()\n",
        "\n",
        "\n",
        "\n"
      ]
    },
    {
      "cell_type": "code",
      "execution_count": null,
      "metadata": {
        "id": "AA4Hs3qQ2aEg"
      },
      "outputs": [],
      "source": [
        "task.status()"
      ]
    }
  ],
  "metadata": {
    "colab": {
      "provenance": [],
      "gpuType": "T4",
      "authorship_tag": "ABX9TyPeDK53+3uLDPsoVgHvbq9Z",
      "include_colab_link": true
    },
    "kernelspec": {
      "display_name": "Python 3",
      "name": "python3"
    },
    "language_info": {
      "name": "python"
    },
    "accelerator": "GPU"
  },
  "nbformat": 4,
  "nbformat_minor": 0
}